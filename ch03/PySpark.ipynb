{
 "cells": [
  {
   "cell_type": "markdown",
   "id": "407ac289-e73c-401b-a8a2-615bd4e51fa8",
   "metadata": {},
   "source": [
    "# CH 03\n",
    "## 데이터 준비\n",
    "본 챕터에서 사용하는 데이터는 Audioscrobbler에서 공개한 데이터셋을 사용합니다. 2005년에 last.fm에서 배포한 데이터셋으로 사용자들에게 음악을 추천하기 위해서 사용된 정보라고 합니다. 필요한 파일들을 압축 해제할 수 있도록 아래 명령어를 실행합니다."
   ]
  },
  {
   "cell_type": "code",
   "execution_count": 6,
   "id": "be0d340b-6575-4852-98f9-91a782e0c687",
   "metadata": {},
   "outputs": [
    {
     "name": "stdout",
     "output_type": "stream",
     "text": [
      "  % Total    % Received % Xferd  Average Speed   Time    Time     Time  Current\n",
      "                                 Dload  Upload   Total   Spent    Left  Speed\n",
      "100  129M  100  129M    0     0  3230k      0  0:00:41  0:00:41 --:--:-- 3141k23 30.3M    0     0  2735k      0  0:00:48  0:00:11  0:00:37 4463k\n"
     ]
    }
   ],
   "source": [
    "!curl -L -o dataset.tar.gz http://www.iro.umontreal.ca/~lisa/datasets/profiledata_06-May-2005.tar.gz\n",
    "!tar -xzf dataset.tar.gz\n",
    "!rm dataset.tar.gz"
   ]
  },
  {
   "cell_type": "code",
   "execution_count": 1,
   "id": "6be16513-b008-461f-8aac-4acfd22e0318",
   "metadata": {},
   "outputs": [],
   "source": [
    "import findspark\n",
    "findspark.find()\n",
    "\n",
    "from pyspark import SparkContext, SparkConf\n",
    "from pyspark.sql import SparkSession\n",
    "\n",
    "spark = SparkSession.builder \\\n",
    "    .master(\"local\") \\\n",
    "    .appName(\"Spark\") \\\n",
    "    .config(\"spark.sql.repl.eagerEval.enabled\", True) \\\n",
    "    .getOrCreate()\n",
    "\n",
    "sc = spark.sparkContext\n",
    "\n",
    "from pyspark.sql import functions as f\n",
    "from pyspark.sql import Window"
   ]
  },
  {
   "cell_type": "markdown",
   "id": "4c9bc946-ee2a-4bda-9589-0180e776743e",
   "metadata": {},
   "source": [
    "교차 최소 제곱 추천 알고리즘"
   ]
  },
  {
   "cell_type": "code",
   "execution_count": 44,
   "id": "96807c80-099a-4382-b5b3-4a693e8a4e75",
   "metadata": {},
   "outputs": [],
   "source": [
    "user_artist = spark.read.option('inferSchema', True).option('sep', ' ').csv('profiledata_06-May-2005/user_artist_data.txt').toDF('user', 'artist', 'runtime')"
   ]
  },
  {
   "cell_type": "code",
   "execution_count": 45,
   "id": "31b569eb-2abc-4bdd-9959-04287d93f560",
   "metadata": {},
   "outputs": [
    {
     "data": {
      "text/html": [
       "<table border='1'>\n",
       "<tr><th>user</th><th>artist</th><th>runtime</th></tr>\n",
       "<tr><td>1000002</td><td>1</td><td>55</td></tr>\n",
       "<tr><td>1000002</td><td>1000006</td><td>33</td></tr>\n",
       "<tr><td>1000002</td><td>1000007</td><td>8</td></tr>\n",
       "<tr><td>1000002</td><td>1000009</td><td>144</td></tr>\n",
       "<tr><td>1000002</td><td>1000010</td><td>314</td></tr>\n",
       "<tr><td>1000002</td><td>1000013</td><td>8</td></tr>\n",
       "<tr><td>1000002</td><td>1000014</td><td>42</td></tr>\n",
       "<tr><td>1000002</td><td>1000017</td><td>69</td></tr>\n",
       "<tr><td>1000002</td><td>1000024</td><td>329</td></tr>\n",
       "<tr><td>1000002</td><td>1000025</td><td>1</td></tr>\n",
       "<tr><td>1000002</td><td>1000028</td><td>17</td></tr>\n",
       "<tr><td>1000002</td><td>1000031</td><td>47</td></tr>\n",
       "<tr><td>1000002</td><td>1000033</td><td>15</td></tr>\n",
       "<tr><td>1000002</td><td>1000042</td><td>1</td></tr>\n",
       "<tr><td>1000002</td><td>1000045</td><td>1</td></tr>\n",
       "<tr><td>1000002</td><td>1000054</td><td>2</td></tr>\n",
       "<tr><td>1000002</td><td>1000055</td><td>25</td></tr>\n",
       "<tr><td>1000002</td><td>1000056</td><td>4</td></tr>\n",
       "<tr><td>1000002</td><td>1000059</td><td>2</td></tr>\n",
       "<tr><td>1000002</td><td>1000062</td><td>71</td></tr>\n",
       "</table>\n",
       "only showing top 20 rows\n"
      ],
      "text/plain": [
       "+-------+-------+-------+\n",
       "|   user| artist|runtime|\n",
       "+-------+-------+-------+\n",
       "|1000002|      1|     55|\n",
       "|1000002|1000006|     33|\n",
       "|1000002|1000007|      8|\n",
       "|1000002|1000009|    144|\n",
       "|1000002|1000010|    314|\n",
       "|1000002|1000013|      8|\n",
       "|1000002|1000014|     42|\n",
       "|1000002|1000017|     69|\n",
       "|1000002|1000024|    329|\n",
       "|1000002|1000025|      1|\n",
       "|1000002|1000028|     17|\n",
       "|1000002|1000031|     47|\n",
       "|1000002|1000033|     15|\n",
       "|1000002|1000042|      1|\n",
       "|1000002|1000045|      1|\n",
       "|1000002|1000054|      2|\n",
       "|1000002|1000055|     25|\n",
       "|1000002|1000056|      4|\n",
       "|1000002|1000059|      2|\n",
       "|1000002|1000062|     71|\n",
       "+-------+-------+-------+\n",
       "only showing top 20 rows"
      ]
     },
     "execution_count": 45,
     "metadata": {},
     "output_type": "execute_result"
    }
   ],
   "source": [
    "user_artist"
   ]
  },
  {
   "cell_type": "code",
   "execution_count": 38,
   "id": "adb66e65-0e95-4323-803a-12bfcea624a1",
   "metadata": {},
   "outputs": [
    {
     "data": {
      "text/html": [
       "<table border='1'>\n",
       "<tr><th>min(user)</th><th>max(user)</th><th>min(artist)</th><th>max(artist)</th></tr>\n",
       "<tr><td>1000002</td><td>9875</td><td>1</td><td>9999998</td></tr>\n",
       "</table>\n"
      ],
      "text/plain": [
       "+---------+---------+-----------+-----------+\n",
       "|min(user)|max(user)|min(artist)|max(artist)|\n",
       "+---------+---------+-----------+-----------+\n",
       "|  1000002|     9875|          1|    9999998|\n",
       "+---------+---------+-----------+-----------+"
      ]
     },
     "execution_count": 38,
     "metadata": {},
     "output_type": "execute_result"
    }
   ],
   "source": [
    "user_artist.agg(f.min('user'), f.max('user'), f.min('artist'), f.max('artist'))"
   ]
  },
  {
   "cell_type": "code",
   "execution_count": 41,
   "id": "2fb4efea-e789-457b-bb40-fb37f4c72c2b",
   "metadata": {},
   "outputs": [
    {
     "data": {
      "text/plain": [
       "1848671"
      ]
     },
     "execution_count": 41,
     "metadata": {},
     "output_type": "execute_result"
    }
   ],
   "source": [
    "artist_by_id = spark.read.option('inferSchema', True).option('sep', '\\t').csv('profiledata_06-May-2005/artist_data.txt').toDF('id', 'name')\n",
    "artist_by_id.count()"
   ]
  },
  {
   "cell_type": "code",
   "execution_count": 47,
   "id": "8bdc300b-fe52-485f-98e1-1bfb570a0b60",
   "metadata": {},
   "outputs": [
    {
     "data": {
      "text/plain": [
       "1003926"
      ]
     },
     "execution_count": 47,
     "metadata": {},
     "output_type": "execute_result"
    }
   ],
   "source": [
    "artist_alias = dict(spark.read.option('inferSchema', True).option('sep', '\\t').csv('profiledata_06-May-2005/artist_alias.txt').collect())\n",
    "artist_alias[1208690]"
   ]
  },
  {
   "cell_type": "code",
   "execution_count": 43,
   "id": "0822a8a7-1eb0-45e7-aac6-4ff1d268851b",
   "metadata": {},
   "outputs": [
    {
     "data": {
      "text/html": [
       "<table border='1'>\n",
       "<tr><th>id</th><th>name</th></tr>\n",
       "<tr><td>1208690</td><td>Collective Souls</td></tr>\n",
       "<tr><td>1003926</td><td>Collective Soul</td></tr>\n",
       "</table>\n"
      ],
      "text/plain": [
       "+-------+----------------+\n",
       "|     id|            name|\n",
       "+-------+----------------+\n",
       "|1208690|Collective Souls|\n",
       "|1003926| Collective Soul|\n",
       "+-------+----------------+"
      ]
     },
     "execution_count": 43,
     "metadata": {},
     "output_type": "execute_result"
    }
   ],
   "source": [
    "artist_by_id.filter(f.col('id').isin(1208690, 1003926))"
   ]
  },
  {
   "cell_type": "code",
   "execution_count": null,
   "id": "08334875-5b08-4d2f-b3d4-84d9693940af",
   "metadata": {},
   "outputs": [],
   "source": [
    "def buildCounts"
   ]
  }
 ],
 "metadata": {
  "kernelspec": {
   "display_name": "Python 3",
   "language": "python",
   "name": "python3"
  },
  "language_info": {
   "codemirror_mode": {
    "name": "ipython",
    "version": 3
   },
   "file_extension": ".py",
   "mimetype": "text/x-python",
   "name": "python",
   "nbconvert_exporter": "python",
   "pygments_lexer": "ipython3",
   "version": "3.9.4"
  }
 },
 "nbformat": 4,
 "nbformat_minor": 5
}
