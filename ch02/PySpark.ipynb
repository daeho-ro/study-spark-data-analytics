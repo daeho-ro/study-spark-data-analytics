{
 "cells": [
  {
   "cell_type": "markdown",
   "id": "acd99e04-685e-4f7d-b5ec-ed927d44fa17",
   "metadata": {},
   "source": [
    "# CH 02\n",
    "## 데이터 준비\n",
    "\n",
    "스파크(Spark)를 이용한 데이터 분석 예제로, 본 챕터에서 사용하는 데이터는 UC Irvine의 머신러닝 데이터 저장소에서 구할 수 있는 표본 데이터중의 하나로, 2010년에 독일의 한 병원에서 실시한 레코드 링크 연구에서 나온 것이라고 합니다. 도서에서 제공하는 `bit.ly` 주소를 이용하여 압축된 파일을 다운받을 수 있습니다. 필요한 CSV 파일들을 압축 해제할 수 있도록 아래 명령어를 실행합니다."
   ]
  },
  {
   "cell_type": "code",
   "execution_count": 3,
   "id": "6209884e-7735-4315-9755-0b89083df722",
   "metadata": {},
   "outputs": [
    {
     "name": "stdout",
     "output_type": "stream",
     "text": [
      "mkdir: cannot create directory ‘linkage’: File exists\n",
      "  % Total    % Received % Xferd  Average Speed   Time    Time     Time  Current\n",
      "                                 Dload  Upload   Total   Spent    Left  Speed\n",
      "100   163  100   163    0     0    651      0 --:--:-- --:--:-- --:--:--   652\n",
      "100 53.8M  100 53.8M    0     0  3481k      0  0:00:15  0:00:15 --:--:-- 4815k\n",
      "Archive:  donation.zip\n",
      " extracting: block_10.zip            \n",
      " extracting: block_1.zip             \n",
      " extracting: block_2.zip             \n",
      " extracting: block_3.zip             \n",
      " extracting: block_4.zip             \n",
      " extracting: block_5.zip             \n",
      " extracting: block_6.zip             \n",
      " extracting: block_7.zip             \n",
      " extracting: block_8.zip             \n",
      " extracting: block_9.zip             \n",
      "  inflating: documentation           \n",
      "  inflating: frequencies.csv         \n",
      "Archive:  block_1.zip\n",
      "  inflating: linkage/block_1.csv     \n",
      "\n",
      "Archive:  block_10.zip\n",
      "  inflating: linkage/block_10.csv    \n",
      "\n",
      "Archive:  block_2.zip\n",
      "  inflating: linkage/block_2.csv     \n",
      "\n",
      "Archive:  block_3.zip\n",
      "  inflating: linkage/block_3.csv     \n",
      "\n",
      "Archive:  block_4.zip\n",
      "  inflating: linkage/block_4.csv     \n",
      "\n",
      "Archive:  block_5.zip\n",
      "  inflating: linkage/block_5.csv     \n",
      "\n",
      "Archive:  block_6.zip\n",
      "  inflating: linkage/block_6.csv     \n",
      "\n",
      "Archive:  block_7.zip\n",
      "  inflating: linkage/block_7.csv     \n",
      "\n",
      "Archive:  block_8.zip\n",
      "  inflating: linkage/block_8.csv     \n",
      "\n",
      "Archive:  block_9.zip\n",
      "  inflating: linkage/block_9.csv     \n",
      "\n",
      "10 archives were successfully processed.\n"
     ]
    }
   ],
   "source": [
    "!mkdir linkage\n",
    "!curl -L -o \"donation.zip\" http://bit.ly/1Aoywaq\n",
    "!unzip -o \"donation.zip\"\n",
    "!unzip -o \"block_*.zip\" -d linkage"
   ]
  },
  {
   "cell_type": "code",
   "execution_count": 137,
   "id": "6f8e4134-2440-4a89-aec1-a1831fb47fd4",
   "metadata": {},
   "outputs": [
    {
     "name": "stdout",
     "output_type": "stream",
     "text": [
      "rm: cannot remove 'block_*': No such file or directory\n"
     ]
    }
   ],
   "source": [
    "!rm donation.zip\n",
    "!rm frequencies.csv\n",
    "!rm documentation\n",
    "!rm block_*"
   ]
  },
  {
   "cell_type": "markdown",
   "id": "ceae380f-2a30-48f5-b7d2-ab43f5f24895",
   "metadata": {},
   "source": [
    "PySpark를 사용하기 위해서는 다음과 같이 스파크 세션을 설정해주어야 합니다."
   ]
  },
  {
   "cell_type": "code",
   "execution_count": 59,
   "id": "dad183d4-c275-433b-8eb6-1d6077e70523",
   "metadata": {},
   "outputs": [],
   "source": [
    "import findspark\n",
    "findspark.find()\n",
    "\n",
    "from pyspark import SparkContext, SparkConf\n",
    "from pyspark.sql import SparkSession\n",
    "\n",
    "spark = SparkSession.builder \\\n",
    "    .master(\"local\") \\\n",
    "    .appName(\"Spark\") \\\n",
    "    .config(\"spark.sql.repl.eagerEval.enabled\", True) \\\n",
    "    .getOrCreate()\n",
    "\n",
    "sc = spark.sparkContext\n",
    "\n",
    "from pyspark.sql import functions as f\n",
    "from pyspark.sql import Window"
   ]
  },
  {
   "cell_type": "markdown",
   "id": "d7c132b5-3837-4853-897f-6a2aca856b76",
   "metadata": {},
   "source": [
    "## 스파크 기초\n",
    "\n",
    "스파크에서 파일을 읽는 가장 간단한 방법은 텍스트로 불러오는 방법입니다. 하둡(Hadoop)을 이용하게 되면 스파크는 기본적으로 hdfs에서 파일을 찾게 되지만, 지금 사용하고 있는 Docker 이미지에서는 하둡을 이용하지 않기 때문에, 주피터(Jupyter)가 실행되는 경로를 기준으로 하여 상대 경로를 이용할 수 있습니다. `linkage`를 경로로 지정함으로써 폴더 내의 모든 파일을 읽어들이게 됩니다."
   ]
  },
  {
   "cell_type": "code",
   "execution_count": 8,
   "id": "8c5e342c-48a4-4aba-88b3-616c39a42a45",
   "metadata": {
    "tags": []
   },
   "outputs": [],
   "source": [
    "df = spark.read.text(\"linkage\")"
   ]
  },
  {
   "cell_type": "markdown",
   "id": "0e634fa9-c787-47a3-8e64-bb404a80c537",
   "metadata": {},
   "source": [
    "데이터프레임(DataFrame)에서 데이터를 꺼내보기 위한 방법은 여러 가지가 있습니다. 그 중에서 `first` 메소드는 데이터프레임의 가장 첫 번째 레코드를 가져오는 방법입니다. 실제로 하나의 레코드를 읽었는지 확인하기 위해서 `len` 함수를 이용해보면 결과값이 1로 나타나는 것을 확인할 수 있습니다."
   ]
  },
  {
   "cell_type": "code",
   "execution_count": 62,
   "id": "10b2a443-76a8-407b-af85-5c9e8ae8921d",
   "metadata": {},
   "outputs": [
    {
     "data": {
      "text/plain": [
       "Row(value='\"id_1\",\"id_2\",\"cmp_fname_c1\",\"cmp_fname_c2\",\"cmp_lname_c1\",\"cmp_lname_c2\",\"cmp_sex\",\"cmp_bd\",\"cmp_bm\",\"cmp_by\",\"cmp_plz\",\"is_match\"')"
      ]
     },
     "execution_count": 62,
     "metadata": {},
     "output_type": "execute_result"
    }
   ],
   "source": [
    "first = df.first()\n",
    "first"
   ]
  },
  {
   "cell_type": "code",
   "execution_count": 63,
   "id": "ede3420e-9197-47c2-8ca1-620098c3c4df",
   "metadata": {},
   "outputs": [
    {
     "data": {
      "text/plain": [
       "1"
      ]
     },
     "execution_count": 63,
     "metadata": {},
     "output_type": "execute_result"
    }
   ],
   "source": [
    "len(first)"
   ]
  },
  {
   "cell_type": "markdown",
   "id": "00766ba3-efb8-4530-b370-ddcf481fc427",
   "metadata": {},
   "source": [
    "그와 유사하게, `take` 메소드는 숫자를 지정하여 원하는 갯수 만큼의 레코드를 불러올 수 있습니다. `head` 또한 마찬가지 입니다."
   ]
  },
  {
   "cell_type": "code",
   "execution_count": 30,
   "id": "e9c9a2a3-d084-4925-87c8-586b83df75bc",
   "metadata": {},
   "outputs": [
    {
     "data": {
      "text/plain": [
       "[Row(value='\"id_1\",\"id_2\",\"cmp_fname_c1\",\"cmp_fname_c2\",\"cmp_lname_c1\",\"cmp_lname_c2\",\"cmp_sex\",\"cmp_bd\",\"cmp_bm\",\"cmp_by\",\"cmp_plz\",\"is_match\"'),\n",
       " Row(value='3148,8326,1,?,1,?,1,1,1,1,1,TRUE'),\n",
       " Row(value='14055,94934,1,?,1,?,1,1,1,1,1,TRUE'),\n",
       " Row(value='33948,34740,1,?,1,?,1,1,1,1,1,TRUE'),\n",
       " Row(value='946,71870,1,?,1,?,1,1,1,1,1,TRUE'),\n",
       " Row(value='64880,71676,1,?,1,?,1,1,1,1,1,TRUE'),\n",
       " Row(value='25739,45991,1,?,1,?,1,1,1,1,1,TRUE'),\n",
       " Row(value='62415,93584,1,?,1,?,1,1,1,1,0,TRUE'),\n",
       " Row(value='27995,31399,1,?,1,?,1,1,1,1,1,TRUE'),\n",
       " Row(value='4909,12238,1,?,1,?,1,1,1,1,1,TRUE')]"
      ]
     },
     "execution_count": 30,
     "metadata": {},
     "output_type": "execute_result"
    }
   ],
   "source": [
    "take = df.take(10)\n",
    "take"
   ]
  },
  {
   "cell_type": "code",
   "execution_count": 31,
   "id": "4f0b0d6b-5f3a-404c-a72e-0bb0fb0d3299",
   "metadata": {},
   "outputs": [
    {
     "data": {
      "text/plain": [
       "10"
      ]
     },
     "execution_count": 31,
     "metadata": {},
     "output_type": "execute_result"
    }
   ],
   "source": [
    "len(take)"
   ]
  },
  {
   "cell_type": "markdown",
   "id": "c2b871a8-306c-4aeb-a962-2a4d0cb07013",
   "metadata": {},
   "source": [
    "데이터프레임을 조회했을 때, 위의 결과처럼 행(Row)들의 list가 출력되는데, 이 때 가독성이 너무 떨어지기 때문에 아래와 같이 `print` 함수를 이용하여 가독성을 향상시킬 수 있습니다."
   ]
  },
  {
   "cell_type": "code",
   "execution_count": 36,
   "id": "44993838-121a-41d3-a8bd-04b700e008e8",
   "metadata": {},
   "outputs": [
    {
     "name": "stdout",
     "output_type": "stream",
     "text": [
      "Row(value='\"id_1\",\"id_2\",\"cmp_fname_c1\",\"cmp_fname_c2\",\"cmp_lname_c1\",\"cmp_lname_c2\",\"cmp_sex\",\"cmp_bd\",\"cmp_bm\",\"cmp_by\",\"cmp_plz\",\"is_match\"')\n",
      "Row(value='3148,8326,1,?,1,?,1,1,1,1,1,TRUE')\n",
      "Row(value='14055,94934,1,?,1,?,1,1,1,1,1,TRUE')\n",
      "Row(value='33948,34740,1,?,1,?,1,1,1,1,1,TRUE')\n",
      "Row(value='946,71870,1,?,1,?,1,1,1,1,1,TRUE')\n",
      "Row(value='64880,71676,1,?,1,?,1,1,1,1,1,TRUE')\n",
      "Row(value='25739,45991,1,?,1,?,1,1,1,1,1,TRUE')\n",
      "Row(value='62415,93584,1,?,1,?,1,1,1,1,0,TRUE')\n",
      "Row(value='27995,31399,1,?,1,?,1,1,1,1,1,TRUE')\n",
      "Row(value='4909,12238,1,?,1,?,1,1,1,1,1,TRUE')\n"
     ]
    }
   ],
   "source": [
    "print(*take, sep='\\n')"
   ]
  },
  {
   "cell_type": "markdown",
   "id": "682bd2b0-076a-4a32-8d95-198011650261",
   "metadata": {},
   "source": [
    "첫 번째 행은 다른 행과 차이가 있는데, 각 열(Column)에 대한 헤더를 포함하고 있기 때문입니다. 그래서 데이터 분석을 할 때 이러한 헤더가 섞이면 곤란하므로 헤더를 구분해주어야 할 필요가 있습니다. 간단한 사용자 정의 함수(User Defined Function, UDF)를 이용하여 헤더를 구분해볼 수 있습니다."
   ]
  },
  {
   "cell_type": "code",
   "execution_count": 48,
   "id": "1ab74c71-805e-4ab8-a13c-8404bbc03cc9",
   "metadata": {},
   "outputs": [],
   "source": [
    "from pyspark.sql.functions import udf\n",
    "\n",
    "def isHeader(row):\n",
    "    return \"id_1\" in str(row)\n",
    "    \n",
    "_isHeader = udf(isHeader)"
   ]
  },
  {
   "cell_type": "markdown",
   "id": "a3aae3a2-0031-4844-9911-dfbcc6283307",
   "metadata": {},
   "source": [
    "`take(10)`의 결과물에서 헤더인 행만 필터해보면 1개의 행만 출력됨을 확인할 수 있습니다."
   ]
  },
  {
   "cell_type": "code",
   "execution_count": 55,
   "id": "d9ae920e-f6e5-4290-8e39-002804bf102a",
   "metadata": {},
   "outputs": [
    {
     "name": "stdout",
     "output_type": "stream",
     "text": [
      "Row(value='\"id_1\",\"id_2\",\"cmp_fname_c1\",\"cmp_fname_c2\",\"cmp_lname_c1\",\"cmp_lname_c2\",\"cmp_sex\",\"cmp_bd\",\"cmp_bm\",\"cmp_by\",\"cmp_plz\",\"is_match\"')\n"
     ]
    },
    {
     "data": {
      "text/plain": [
       "1"
      ]
     },
     "execution_count": 55,
     "metadata": {},
     "output_type": "execute_result"
    }
   ],
   "source": [
    "print(*filter(lambda row: isHeader(row), take), sep='\\n')\n",
    "len(list(filter(lambda row: isHeader(row), take)))"
   ]
  },
  {
   "cell_type": "markdown",
   "id": "83f18523-dc95-4094-aba5-a458956504bb",
   "metadata": {},
   "source": [
    "그 반대로 필터를 해보면 9개의 행이 출력되는 것을 확인할 수 있습니다."
   ]
  },
  {
   "cell_type": "code",
   "execution_count": 54,
   "id": "b3c39835-e741-4bdb-8791-46033b466a1d",
   "metadata": {
    "tags": []
   },
   "outputs": [
    {
     "name": "stdout",
     "output_type": "stream",
     "text": [
      "Row(value='3148,8326,1,?,1,?,1,1,1,1,1,TRUE')\n",
      "Row(value='14055,94934,1,?,1,?,1,1,1,1,1,TRUE')\n",
      "Row(value='33948,34740,1,?,1,?,1,1,1,1,1,TRUE')\n",
      "Row(value='946,71870,1,?,1,?,1,1,1,1,1,TRUE')\n",
      "Row(value='64880,71676,1,?,1,?,1,1,1,1,1,TRUE')\n",
      "Row(value='25739,45991,1,?,1,?,1,1,1,1,1,TRUE')\n",
      "Row(value='62415,93584,1,?,1,?,1,1,1,1,0,TRUE')\n",
      "Row(value='27995,31399,1,?,1,?,1,1,1,1,1,TRUE')\n",
      "Row(value='4909,12238,1,?,1,?,1,1,1,1,1,TRUE')\n"
     ]
    },
    {
     "data": {
      "text/plain": [
       "9"
      ]
     },
     "execution_count": 54,
     "metadata": {},
     "output_type": "execute_result"
    }
   ],
   "source": [
    "print(*filter(lambda row: not(isHeader(row)), take), sep='\\n')\n",
    "len(list(filter(lambda row: not(isHeader(row)), take)))"
   ]
  },
  {
   "cell_type": "markdown",
   "id": "e7ce36c4-6e80-474b-aab6-b424fcabe3b9",
   "metadata": {},
   "source": [
    "## 스파크 데이터프레임\n",
    "\n",
    "스파크에서는 여러 데이터 포맷에 대해서 손쉽게 데이터를 읽어서 데이터프레임으로 만들 수 있는 API를 제공합니다. 앞에서는 CSV 파일의 행 하나하나를 단순히 Text로 읽었지만, 이번에는 CSV의 목적에 맞게 comma로 구분되는 열 구조를 가진 데이터프레임으로 읽어보겠습니다. 아래와 같이 `.csv` 메소드를 이용해서 CSV 파일을 읽습니다."
   ]
  },
  {
   "cell_type": "code",
   "execution_count": 64,
   "id": "09a471eb-742a-4faf-969f-29e59bb21d14",
   "metadata": {},
   "outputs": [],
   "source": [
    "parsed = spark.read.csv(\"linkage\")"
   ]
  },
  {
   "cell_type": "markdown",
   "id": "3f573b19-b46a-4713-b046-9a9d2381ed16",
   "metadata": {},
   "source": [
    "그리고 `.show` 메소드를 사용해서 데이터프레임을 살펴보면 열 구조가 제대로 나뉜 것을 확인할 수 있습니다."
   ]
  },
  {
   "cell_type": "code",
   "execution_count": 65,
   "id": "3eb81790-5145-4d24-94cd-ea94cdaa9204",
   "metadata": {},
   "outputs": [
    {
     "data": {
      "text/html": [
       "<table border='1'>\n",
       "<tr><th>_c0</th><th>_c1</th><th>_c2</th><th>_c3</th><th>_c4</th><th>_c5</th><th>_c6</th><th>_c7</th><th>_c8</th><th>_c9</th><th>_c10</th><th>_c11</th></tr>\n",
       "<tr><td>id_1</td><td>id_2</td><td>cmp_fname_c1</td><td>cmp_fname_c2</td><td>cmp_lname_c1</td><td>cmp_lname_c2</td><td>cmp_sex</td><td>cmp_bd</td><td>cmp_bm</td><td>cmp_by</td><td>cmp_plz</td><td>is_match</td></tr>\n",
       "<tr><td>3148</td><td>8326</td><td>1</td><td>?</td><td>1</td><td>?</td><td>1</td><td>1</td><td>1</td><td>1</td><td>1</td><td>TRUE</td></tr>\n",
       "<tr><td>14055</td><td>94934</td><td>1</td><td>?</td><td>1</td><td>?</td><td>1</td><td>1</td><td>1</td><td>1</td><td>1</td><td>TRUE</td></tr>\n",
       "<tr><td>33948</td><td>34740</td><td>1</td><td>?</td><td>1</td><td>?</td><td>1</td><td>1</td><td>1</td><td>1</td><td>1</td><td>TRUE</td></tr>\n",
       "<tr><td>946</td><td>71870</td><td>1</td><td>?</td><td>1</td><td>?</td><td>1</td><td>1</td><td>1</td><td>1</td><td>1</td><td>TRUE</td></tr>\n",
       "<tr><td>64880</td><td>71676</td><td>1</td><td>?</td><td>1</td><td>?</td><td>1</td><td>1</td><td>1</td><td>1</td><td>1</td><td>TRUE</td></tr>\n",
       "<tr><td>25739</td><td>45991</td><td>1</td><td>?</td><td>1</td><td>?</td><td>1</td><td>1</td><td>1</td><td>1</td><td>1</td><td>TRUE</td></tr>\n",
       "<tr><td>62415</td><td>93584</td><td>1</td><td>?</td><td>1</td><td>?</td><td>1</td><td>1</td><td>1</td><td>1</td><td>0</td><td>TRUE</td></tr>\n",
       "<tr><td>27995</td><td>31399</td><td>1</td><td>?</td><td>1</td><td>?</td><td>1</td><td>1</td><td>1</td><td>1</td><td>1</td><td>TRUE</td></tr>\n",
       "<tr><td>4909</td><td>12238</td><td>1</td><td>?</td><td>1</td><td>?</td><td>1</td><td>1</td><td>1</td><td>1</td><td>1</td><td>TRUE</td></tr>\n",
       "<tr><td>15161</td><td>16743</td><td>1</td><td>?</td><td>1</td><td>?</td><td>1</td><td>1</td><td>1</td><td>1</td><td>1</td><td>TRUE</td></tr>\n",
       "<tr><td>31703</td><td>37310</td><td>1</td><td>?</td><td>1</td><td>?</td><td>1</td><td>1</td><td>1</td><td>1</td><td>1</td><td>TRUE</td></tr>\n",
       "<tr><td>30213</td><td>36558</td><td>1</td><td>?</td><td>1</td><td>?</td><td>1</td><td>1</td><td>1</td><td>1</td><td>1</td><td>TRUE</td></tr>\n",
       "<tr><td>56596</td><td>56630</td><td>1</td><td>?</td><td>1</td><td>?</td><td>1</td><td>1</td><td>1</td><td>1</td><td>1</td><td>TRUE</td></tr>\n",
       "<tr><td>16481</td><td>21174</td><td>1</td><td>?</td><td>1</td><td>?</td><td>1</td><td>1</td><td>1</td><td>1</td><td>1</td><td>TRUE</td></tr>\n",
       "<tr><td>32649</td><td>37094</td><td>1</td><td>?</td><td>1</td><td>?</td><td>1</td><td>1</td><td>1</td><td>1</td><td>1</td><td>TRUE</td></tr>\n",
       "<tr><td>34268</td><td>37260</td><td>1</td><td>?</td><td>1</td><td>?</td><td>1</td><td>1</td><td>1</td><td>1</td><td>1</td><td>TRUE</td></tr>\n",
       "<tr><td>66117</td><td>69253</td><td>1</td><td>?</td><td>1</td><td>?</td><td>1</td><td>1</td><td>1</td><td>1</td><td>0</td><td>TRUE</td></tr>\n",
       "<tr><td>2771</td><td>31982</td><td>1</td><td>?</td><td>1</td><td>?</td><td>0</td><td>1</td><td>1</td><td>1</td><td>1</td><td>TRUE</td></tr>\n",
       "<tr><td>23557</td><td>29673</td><td>1</td><td>?</td><td>1</td><td>?</td><td>1</td><td>1</td><td>1</td><td>1</td><td>1</td><td>TRUE</td></tr>\n",
       "</table>\n",
       "only showing top 20 rows\n"
      ],
      "text/plain": [
       "+-----+-----+------------+------------+------------+------------+-------+------+------+------+-------+--------+\n",
       "|  _c0|  _c1|         _c2|         _c3|         _c4|         _c5|    _c6|   _c7|   _c8|   _c9|   _c10|    _c11|\n",
       "+-----+-----+------------+------------+------------+------------+-------+------+------+------+-------+--------+\n",
       "| id_1| id_2|cmp_fname_c1|cmp_fname_c2|cmp_lname_c1|cmp_lname_c2|cmp_sex|cmp_bd|cmp_bm|cmp_by|cmp_plz|is_match|\n",
       "| 3148| 8326|           1|           ?|           1|           ?|      1|     1|     1|     1|      1|    TRUE|\n",
       "|14055|94934|           1|           ?|           1|           ?|      1|     1|     1|     1|      1|    TRUE|\n",
       "|33948|34740|           1|           ?|           1|           ?|      1|     1|     1|     1|      1|    TRUE|\n",
       "|  946|71870|           1|           ?|           1|           ?|      1|     1|     1|     1|      1|    TRUE|\n",
       "|64880|71676|           1|           ?|           1|           ?|      1|     1|     1|     1|      1|    TRUE|\n",
       "|25739|45991|           1|           ?|           1|           ?|      1|     1|     1|     1|      1|    TRUE|\n",
       "|62415|93584|           1|           ?|           1|           ?|      1|     1|     1|     1|      0|    TRUE|\n",
       "|27995|31399|           1|           ?|           1|           ?|      1|     1|     1|     1|      1|    TRUE|\n",
       "| 4909|12238|           1|           ?|           1|           ?|      1|     1|     1|     1|      1|    TRUE|\n",
       "|15161|16743|           1|           ?|           1|           ?|      1|     1|     1|     1|      1|    TRUE|\n",
       "|31703|37310|           1|           ?|           1|           ?|      1|     1|     1|     1|      1|    TRUE|\n",
       "|30213|36558|           1|           ?|           1|           ?|      1|     1|     1|     1|      1|    TRUE|\n",
       "|56596|56630|           1|           ?|           1|           ?|      1|     1|     1|     1|      1|    TRUE|\n",
       "|16481|21174|           1|           ?|           1|           ?|      1|     1|     1|     1|      1|    TRUE|\n",
       "|32649|37094|           1|           ?|           1|           ?|      1|     1|     1|     1|      1|    TRUE|\n",
       "|34268|37260|           1|           ?|           1|           ?|      1|     1|     1|     1|      1|    TRUE|\n",
       "|66117|69253|           1|           ?|           1|           ?|      1|     1|     1|     1|      0|    TRUE|\n",
       "| 2771|31982|           1|           ?|           1|           ?|      0|     1|     1|     1|      1|    TRUE|\n",
       "|23557|29673|           1|           ?|           1|           ?|      1|     1|     1|     1|      1|    TRUE|\n",
       "+-----+-----+------------+------------+------------+------------+-------+------+------+------+-------+--------+\n",
       "only showing top 20 rows"
      ]
     },
     "execution_count": 65,
     "metadata": {},
     "output_type": "execute_result"
    }
   ],
   "source": [
    "parsed"
   ]
  },
  {
   "cell_type": "markdown",
   "id": "84bfeb1a-84af-46a4-8b7f-f3b446c5cd5f",
   "metadata": {},
   "source": [
    "딱 한 가지 문제가 있다면, CSV의 헤더가 하나의 행으로 인식되고 있다는 점입니다. 물론, 이것을 해결할 방법이 있습니다. `.csv` 메소드는 다양한 옵션을 설정할 수 있습니다. 헤더의 존재 유무나, 특정 값을 `null`로 변환하거나, 또는 스파크의 강력한 기능 중에 하나인 스키마 추론을 이용해서 해당 컬럼에 들어있는 값들의 데이터 타입을 유추해볼 수 있습니다."
   ]
  },
  {
   "cell_type": "code",
   "execution_count": 66,
   "id": "af8ac89c-bd53-4cd2-a703-5de72d530bd6",
   "metadata": {},
   "outputs": [],
   "source": [
    "parsed = spark.read.option(\"header\", \"true\") \\\n",
    "    .option(\"nullvalue\", \"?\") \\\n",
    "    .option(\"inferSchema\", \"true\") \\\n",
    "    .csv(\"linkage\")"
   ]
  },
  {
   "cell_type": "markdown",
   "id": "55fb0f08-bd34-44a3-9515-99e66c019f6f",
   "metadata": {},
   "source": [
    "이처럼 데이터프레임을 읽어올 때, 옵션을 지정하면 아래와 같이 헤더가 컬럼 이름으로 들어가고 `?` 값이 `null`로 바뀌면서 각 열에 대해서 추론한 데이터 타입을 가지는 것을 확인할 수 있습니다. 추론을 하지 않으면 기본적으로 모든 컬럼은 `string` 타입으로 인식됩니다."
   ]
  },
  {
   "cell_type": "code",
   "execution_count": 92,
   "id": "c4337ad7-5144-4393-8016-291ef108c3af",
   "metadata": {},
   "outputs": [
    {
     "data": {
      "text/html": [
       "<table border='1'>\n",
       "<tr><th>id_1</th><th>id_2</th><th>cmp_fname_c1</th><th>cmp_fname_c2</th><th>cmp_lname_c1</th><th>cmp_lname_c2</th><th>cmp_sex</th><th>cmp_bd</th><th>cmp_bm</th><th>cmp_by</th><th>cmp_plz</th><th>is_match</th></tr>\n",
       "<tr><td>3148</td><td>8326</td><td>1.0</td><td>null</td><td>1.0</td><td>null</td><td>1</td><td>1</td><td>1</td><td>1</td><td>1</td><td>true</td></tr>\n",
       "<tr><td>14055</td><td>94934</td><td>1.0</td><td>null</td><td>1.0</td><td>null</td><td>1</td><td>1</td><td>1</td><td>1</td><td>1</td><td>true</td></tr>\n",
       "<tr><td>33948</td><td>34740</td><td>1.0</td><td>null</td><td>1.0</td><td>null</td><td>1</td><td>1</td><td>1</td><td>1</td><td>1</td><td>true</td></tr>\n",
       "<tr><td>946</td><td>71870</td><td>1.0</td><td>null</td><td>1.0</td><td>null</td><td>1</td><td>1</td><td>1</td><td>1</td><td>1</td><td>true</td></tr>\n",
       "<tr><td>64880</td><td>71676</td><td>1.0</td><td>null</td><td>1.0</td><td>null</td><td>1</td><td>1</td><td>1</td><td>1</td><td>1</td><td>true</td></tr>\n",
       "<tr><td>25739</td><td>45991</td><td>1.0</td><td>null</td><td>1.0</td><td>null</td><td>1</td><td>1</td><td>1</td><td>1</td><td>1</td><td>true</td></tr>\n",
       "<tr><td>62415</td><td>93584</td><td>1.0</td><td>null</td><td>1.0</td><td>null</td><td>1</td><td>1</td><td>1</td><td>1</td><td>0</td><td>true</td></tr>\n",
       "<tr><td>27995</td><td>31399</td><td>1.0</td><td>null</td><td>1.0</td><td>null</td><td>1</td><td>1</td><td>1</td><td>1</td><td>1</td><td>true</td></tr>\n",
       "<tr><td>4909</td><td>12238</td><td>1.0</td><td>null</td><td>1.0</td><td>null</td><td>1</td><td>1</td><td>1</td><td>1</td><td>1</td><td>true</td></tr>\n",
       "<tr><td>15161</td><td>16743</td><td>1.0</td><td>null</td><td>1.0</td><td>null</td><td>1</td><td>1</td><td>1</td><td>1</td><td>1</td><td>true</td></tr>\n",
       "<tr><td>31703</td><td>37310</td><td>1.0</td><td>null</td><td>1.0</td><td>null</td><td>1</td><td>1</td><td>1</td><td>1</td><td>1</td><td>true</td></tr>\n",
       "<tr><td>30213</td><td>36558</td><td>1.0</td><td>null</td><td>1.0</td><td>null</td><td>1</td><td>1</td><td>1</td><td>1</td><td>1</td><td>true</td></tr>\n",
       "<tr><td>56596</td><td>56630</td><td>1.0</td><td>null</td><td>1.0</td><td>null</td><td>1</td><td>1</td><td>1</td><td>1</td><td>1</td><td>true</td></tr>\n",
       "<tr><td>16481</td><td>21174</td><td>1.0</td><td>null</td><td>1.0</td><td>null</td><td>1</td><td>1</td><td>1</td><td>1</td><td>1</td><td>true</td></tr>\n",
       "<tr><td>32649</td><td>37094</td><td>1.0</td><td>null</td><td>1.0</td><td>null</td><td>1</td><td>1</td><td>1</td><td>1</td><td>1</td><td>true</td></tr>\n",
       "<tr><td>34268</td><td>37260</td><td>1.0</td><td>null</td><td>1.0</td><td>null</td><td>1</td><td>1</td><td>1</td><td>1</td><td>1</td><td>true</td></tr>\n",
       "<tr><td>66117</td><td>69253</td><td>1.0</td><td>null</td><td>1.0</td><td>null</td><td>1</td><td>1</td><td>1</td><td>1</td><td>0</td><td>true</td></tr>\n",
       "<tr><td>2771</td><td>31982</td><td>1.0</td><td>null</td><td>1.0</td><td>null</td><td>0</td><td>1</td><td>1</td><td>1</td><td>1</td><td>true</td></tr>\n",
       "<tr><td>23557</td><td>29673</td><td>1.0</td><td>null</td><td>1.0</td><td>null</td><td>1</td><td>1</td><td>1</td><td>1</td><td>1</td><td>true</td></tr>\n",
       "<tr><td>37156</td><td>39557</td><td>1.0</td><td>null</td><td>1.0</td><td>null</td><td>1</td><td>1</td><td>1</td><td>1</td><td>1</td><td>true</td></tr>\n",
       "</table>\n",
       "only showing top 20 rows\n"
      ],
      "text/plain": [
       "DataFrame[id_1: int, id_2: int, cmp_fname_c1: double, cmp_fname_c2: double, cmp_lname_c1: double, cmp_lname_c2: double, cmp_sex: int, cmp_bd: int, cmp_bm: int, cmp_by: int, cmp_plz: int, is_match: boolean]"
      ]
     },
     "execution_count": 92,
     "metadata": {},
     "output_type": "execute_result"
    }
   ],
   "source": [
    "parsed"
   ]
  },
  {
   "cell_type": "code",
   "execution_count": 93,
   "id": "41ef95e2-377d-439e-891e-23d0f0ffa443",
   "metadata": {},
   "outputs": [
    {
     "name": "stdout",
     "output_type": "stream",
     "text": [
      "root\n",
      " |-- id_1: integer (nullable = true)\n",
      " |-- id_2: integer (nullable = true)\n",
      " |-- cmp_fname_c1: double (nullable = true)\n",
      " |-- cmp_fname_c2: double (nullable = true)\n",
      " |-- cmp_lname_c1: double (nullable = true)\n",
      " |-- cmp_lname_c2: double (nullable = true)\n",
      " |-- cmp_sex: integer (nullable = true)\n",
      " |-- cmp_bd: integer (nullable = true)\n",
      " |-- cmp_bm: integer (nullable = true)\n",
      " |-- cmp_by: integer (nullable = true)\n",
      " |-- cmp_plz: integer (nullable = true)\n",
      " |-- is_match: boolean (nullable = true)\n",
      "\n"
     ]
    }
   ],
   "source": [
    "parsed.printSchema()"
   ]
  },
  {
   "cell_type": "markdown",
   "id": "91d484f2-2a9c-4048-9e19-1985a2f92aa5",
   "metadata": {},
   "source": [
    "## 데이터 분석\n",
    "\n",
    "이제 읽어들인 데이터를 분석해볼 수 있습니다. 가장 기초적인 방법은 데이터의 양을 확인하는 것입니다. 데이터프레임이 가지고 있는 행의 카운트를 다음과 같이 수행할 수 있습니다."
   ]
  },
  {
   "cell_type": "code",
   "execution_count": 69,
   "id": "7565ede4-1fe0-46ef-8f4b-4cb7e0f5a40c",
   "metadata": {},
   "outputs": [
    {
     "data": {
      "text/plain": [
       "5749132"
      ]
     },
     "execution_count": 69,
     "metadata": {},
     "output_type": "execute_result"
    }
   ],
   "source": [
    "parsed.count()"
   ]
  },
  {
   "cell_type": "markdown",
   "id": "66666940-39e0-4fd8-8766-199af874a133",
   "metadata": {},
   "source": [
    "데이터프레임을 반복적으로 읽어서 사용하게 된다면, 파일을 마찬가지로 반복적으로 읽어오면서 속도 저하가 발생할 수 있습니다. 앞으로 해당 데이터프레임을 빠르게 사용하기 위해서 약간의 시간을 들여서 미리 메모리에 캐쉬를 하겠습니다. 캐쉬 위치는 메모리와 디스크 혹은 둘 다 사용하도록 설정을 할 수 있지만, 기본 값은 메모리만 사용하는 것입니다."
   ]
  },
  {
   "cell_type": "code",
   "execution_count": 70,
   "id": "b90c89c0-4e6a-4173-9a51-89c295532804",
   "metadata": {},
   "outputs": [
    {
     "data": {
      "text/html": [
       "<table border='1'>\n",
       "<tr><th>id_1</th><th>id_2</th><th>cmp_fname_c1</th><th>cmp_fname_c2</th><th>cmp_lname_c1</th><th>cmp_lname_c2</th><th>cmp_sex</th><th>cmp_bd</th><th>cmp_bm</th><th>cmp_by</th><th>cmp_plz</th><th>is_match</th></tr>\n",
       "<tr><td>3148</td><td>8326</td><td>1.0</td><td>null</td><td>1.0</td><td>null</td><td>1</td><td>1</td><td>1</td><td>1</td><td>1</td><td>true</td></tr>\n",
       "<tr><td>14055</td><td>94934</td><td>1.0</td><td>null</td><td>1.0</td><td>null</td><td>1</td><td>1</td><td>1</td><td>1</td><td>1</td><td>true</td></tr>\n",
       "<tr><td>33948</td><td>34740</td><td>1.0</td><td>null</td><td>1.0</td><td>null</td><td>1</td><td>1</td><td>1</td><td>1</td><td>1</td><td>true</td></tr>\n",
       "<tr><td>946</td><td>71870</td><td>1.0</td><td>null</td><td>1.0</td><td>null</td><td>1</td><td>1</td><td>1</td><td>1</td><td>1</td><td>true</td></tr>\n",
       "<tr><td>64880</td><td>71676</td><td>1.0</td><td>null</td><td>1.0</td><td>null</td><td>1</td><td>1</td><td>1</td><td>1</td><td>1</td><td>true</td></tr>\n",
       "<tr><td>25739</td><td>45991</td><td>1.0</td><td>null</td><td>1.0</td><td>null</td><td>1</td><td>1</td><td>1</td><td>1</td><td>1</td><td>true</td></tr>\n",
       "<tr><td>62415</td><td>93584</td><td>1.0</td><td>null</td><td>1.0</td><td>null</td><td>1</td><td>1</td><td>1</td><td>1</td><td>0</td><td>true</td></tr>\n",
       "<tr><td>27995</td><td>31399</td><td>1.0</td><td>null</td><td>1.0</td><td>null</td><td>1</td><td>1</td><td>1</td><td>1</td><td>1</td><td>true</td></tr>\n",
       "<tr><td>4909</td><td>12238</td><td>1.0</td><td>null</td><td>1.0</td><td>null</td><td>1</td><td>1</td><td>1</td><td>1</td><td>1</td><td>true</td></tr>\n",
       "<tr><td>15161</td><td>16743</td><td>1.0</td><td>null</td><td>1.0</td><td>null</td><td>1</td><td>1</td><td>1</td><td>1</td><td>1</td><td>true</td></tr>\n",
       "<tr><td>31703</td><td>37310</td><td>1.0</td><td>null</td><td>1.0</td><td>null</td><td>1</td><td>1</td><td>1</td><td>1</td><td>1</td><td>true</td></tr>\n",
       "<tr><td>30213</td><td>36558</td><td>1.0</td><td>null</td><td>1.0</td><td>null</td><td>1</td><td>1</td><td>1</td><td>1</td><td>1</td><td>true</td></tr>\n",
       "<tr><td>56596</td><td>56630</td><td>1.0</td><td>null</td><td>1.0</td><td>null</td><td>1</td><td>1</td><td>1</td><td>1</td><td>1</td><td>true</td></tr>\n",
       "<tr><td>16481</td><td>21174</td><td>1.0</td><td>null</td><td>1.0</td><td>null</td><td>1</td><td>1</td><td>1</td><td>1</td><td>1</td><td>true</td></tr>\n",
       "<tr><td>32649</td><td>37094</td><td>1.0</td><td>null</td><td>1.0</td><td>null</td><td>1</td><td>1</td><td>1</td><td>1</td><td>1</td><td>true</td></tr>\n",
       "<tr><td>34268</td><td>37260</td><td>1.0</td><td>null</td><td>1.0</td><td>null</td><td>1</td><td>1</td><td>1</td><td>1</td><td>1</td><td>true</td></tr>\n",
       "<tr><td>66117</td><td>69253</td><td>1.0</td><td>null</td><td>1.0</td><td>null</td><td>1</td><td>1</td><td>1</td><td>1</td><td>0</td><td>true</td></tr>\n",
       "<tr><td>2771</td><td>31982</td><td>1.0</td><td>null</td><td>1.0</td><td>null</td><td>0</td><td>1</td><td>1</td><td>1</td><td>1</td><td>true</td></tr>\n",
       "<tr><td>23557</td><td>29673</td><td>1.0</td><td>null</td><td>1.0</td><td>null</td><td>1</td><td>1</td><td>1</td><td>1</td><td>1</td><td>true</td></tr>\n",
       "<tr><td>37156</td><td>39557</td><td>1.0</td><td>null</td><td>1.0</td><td>null</td><td>1</td><td>1</td><td>1</td><td>1</td><td>1</td><td>true</td></tr>\n",
       "</table>\n",
       "only showing top 20 rows\n"
      ],
      "text/plain": [
       "+-----+-----+------------+------------+------------+------------+-------+------+------+------+-------+--------+\n",
       "| id_1| id_2|cmp_fname_c1|cmp_fname_c2|cmp_lname_c1|cmp_lname_c2|cmp_sex|cmp_bd|cmp_bm|cmp_by|cmp_plz|is_match|\n",
       "+-----+-----+------------+------------+------------+------------+-------+------+------+------+-------+--------+\n",
       "| 3148| 8326|         1.0|        null|         1.0|        null|      1|     1|     1|     1|      1|    true|\n",
       "|14055|94934|         1.0|        null|         1.0|        null|      1|     1|     1|     1|      1|    true|\n",
       "|33948|34740|         1.0|        null|         1.0|        null|      1|     1|     1|     1|      1|    true|\n",
       "|  946|71870|         1.0|        null|         1.0|        null|      1|     1|     1|     1|      1|    true|\n",
       "|64880|71676|         1.0|        null|         1.0|        null|      1|     1|     1|     1|      1|    true|\n",
       "|25739|45991|         1.0|        null|         1.0|        null|      1|     1|     1|     1|      1|    true|\n",
       "|62415|93584|         1.0|        null|         1.0|        null|      1|     1|     1|     1|      0|    true|\n",
       "|27995|31399|         1.0|        null|         1.0|        null|      1|     1|     1|     1|      1|    true|\n",
       "| 4909|12238|         1.0|        null|         1.0|        null|      1|     1|     1|     1|      1|    true|\n",
       "|15161|16743|         1.0|        null|         1.0|        null|      1|     1|     1|     1|      1|    true|\n",
       "|31703|37310|         1.0|        null|         1.0|        null|      1|     1|     1|     1|      1|    true|\n",
       "|30213|36558|         1.0|        null|         1.0|        null|      1|     1|     1|     1|      1|    true|\n",
       "|56596|56630|         1.0|        null|         1.0|        null|      1|     1|     1|     1|      1|    true|\n",
       "|16481|21174|         1.0|        null|         1.0|        null|      1|     1|     1|     1|      1|    true|\n",
       "|32649|37094|         1.0|        null|         1.0|        null|      1|     1|     1|     1|      1|    true|\n",
       "|34268|37260|         1.0|        null|         1.0|        null|      1|     1|     1|     1|      1|    true|\n",
       "|66117|69253|         1.0|        null|         1.0|        null|      1|     1|     1|     1|      0|    true|\n",
       "| 2771|31982|         1.0|        null|         1.0|        null|      0|     1|     1|     1|      1|    true|\n",
       "|23557|29673|         1.0|        null|         1.0|        null|      1|     1|     1|     1|      1|    true|\n",
       "|37156|39557|         1.0|        null|         1.0|        null|      1|     1|     1|     1|      1|    true|\n",
       "+-----+-----+------------+------------+------------+------------+-------+------+------+------+-------+--------+\n",
       "only showing top 20 rows"
      ]
     },
     "execution_count": 70,
     "metadata": {},
     "output_type": "execute_result"
    }
   ],
   "source": [
    "parsed.cache()"
   ]
  },
  {
   "cell_type": "markdown",
   "id": "fd80d490-c17c-4a77-ba05-b9b37b377b3d",
   "metadata": {},
   "source": [
    "데이터에서 `id_1`과 `id_2`가 같은 사람인지를 확인한 `is_match` 값에 대해서 각각 얼마만큼의 데이터를 가지고 있는지 확인해볼 수 있습니다."
   ]
  },
  {
   "cell_type": "code",
   "execution_count": 88,
   "id": "9add8797-88e0-4886-9bf7-b20270fdff6f",
   "metadata": {},
   "outputs": [
    {
     "data": {
      "text/html": [
       "<table border='1'>\n",
       "<tr><th>is_match</th><th>count</th></tr>\n",
       "<tr><td>false</td><td>5728201</td></tr>\n",
       "<tr><td>true</td><td>20931</td></tr>\n",
       "</table>\n"
      ],
      "text/plain": [
       "+--------+-------+\n",
       "|is_match|  count|\n",
       "+--------+-------+\n",
       "|   false|5728201|\n",
       "|    true|  20931|\n",
       "+--------+-------+"
      ]
     },
     "execution_count": 88,
     "metadata": {},
     "output_type": "execute_result"
    }
   ],
   "source": [
    "parsed.groupBy('is_match').count().orderBy(f.col('count').desc())"
   ]
  },
  {
   "cell_type": "markdown",
   "id": "314fdbdc-833a-4f55-8d02-1780618f5d83",
   "metadata": {},
   "source": [
    "또는, 간단한 통계 함수를 이용하여 특정 열에서의 평균값 또는 표준편차를 구할 수도 있습니다. "
   ]
  },
  {
   "cell_type": "code",
   "execution_count": 89,
   "id": "62fc7dea-ab79-42f2-b4e2-6d791ef09e58",
   "metadata": {},
   "outputs": [
    {
     "data": {
      "text/html": [
       "<table border='1'>\n",
       "<tr><th>avg(cmp_sex)</th><th>stddev_samp(cmp_sex)</th></tr>\n",
       "<tr><td>0.955001381078048</td><td>0.20730111116897443</td></tr>\n",
       "</table>\n"
      ],
      "text/plain": [
       "+-----------------+--------------------+\n",
       "|     avg(cmp_sex)|stddev_samp(cmp_sex)|\n",
       "+-----------------+--------------------+\n",
       "|0.955001381078048| 0.20730111116897443|\n",
       "+-----------------+--------------------+"
      ]
     },
     "execution_count": 89,
     "metadata": {},
     "output_type": "execute_result"
    }
   ],
   "source": [
    "parsed.agg(f.avg('cmp_sex'), f.stddev('cmp_sex'))"
   ]
  },
  {
   "cell_type": "markdown",
   "id": "c9d271d5-0264-4b2e-a5c3-f7893dd26d5f",
   "metadata": {},
   "source": [
    "이러한 데이터 분석 값을 바탕으로 주어진 데이터를 어떻게 모델링해야 보다 정확한 `is_match` 값을 얻을 수 있는지 고민해봐야 합니다. 본 챕터의 목적은 `is_match` 열을 모른 상태에서 주어진 다른 열의 데이터를 이용하여 실제 `is_match` 값을 추측하는 것입니다. 그렇기 때문에 각 열의 정보를 어떻게 조합할 것인지에 대한 모델링이 중요하다는 것입니다.\n",
    "\n",
    "스파크에서는 데이터프레임 API 뿐만 아니라 기존에 개발자들이 익숙하게 사용해왔던 sql API를 함께 제공합니다. 스파크 sql을 이용하면 손쉽게 sql 문을 이용하여 데이터프레임을 조작할 수 있습니다. 먼저 데이터프레임을 하나의 테이블로 인식시킵니다."
   ]
  },
  {
   "cell_type": "code",
   "execution_count": 81,
   "id": "809a0974-1562-41ac-9ff2-8409a52ba1e5",
   "metadata": {},
   "outputs": [],
   "source": [
    "parsed.createOrReplaceTempView(\"linkage\")"
   ]
  },
  {
   "cell_type": "markdown",
   "id": "cc2ec17a-a4a5-4af1-8876-871010243523",
   "metadata": {},
   "source": [
    "그리고 sql문을 이용하여 앞서 데이터프레임을 이용해서 살펴본 데이터 분석 과정을 동일하게 수행할 수 있습니다."
   ]
  },
  {
   "cell_type": "code",
   "execution_count": 90,
   "id": "c73817e7-8638-49dc-ad88-846faa9ce6fe",
   "metadata": {},
   "outputs": [
    {
     "data": {
      "text/html": [
       "<table border='1'>\n",
       "<tr><th>is_match</th><th>cnt</th></tr>\n",
       "<tr><td>false</td><td>5728201</td></tr>\n",
       "<tr><td>true</td><td>20931</td></tr>\n",
       "</table>\n"
      ],
      "text/plain": [
       "+--------+-------+\n",
       "|is_match|    cnt|\n",
       "+--------+-------+\n",
       "|   false|5728201|\n",
       "|    true|  20931|\n",
       "+--------+-------+"
      ]
     },
     "execution_count": 90,
     "metadata": {},
     "output_type": "execute_result"
    }
   ],
   "source": [
    "spark.sql(\"\"\"\n",
    "    SELECT is_match, COUNT(*) cnt\n",
    "    FROM linkage\n",
    "    GROUP BY is_match\n",
    "    ORDER BY cnt DESC\n",
    "\"\"\")"
   ]
  },
  {
   "cell_type": "markdown",
   "id": "4ab52199-c972-490d-8c90-f1ac63d1423d",
   "metadata": {},
   "source": [
    "지금까지는 사용자가 직접 데이터를 분석하는 과정이었습니다. 그러나, 스파크는 모든 데이터프레임에 대해서 간단한 통계 정보를 이미 보유하고 있습니다. 간단하게 원하는 데이터프레임에 대해서 `.describe()` 메소드를 수행해보면 그 결과도 마찬가지로 데이터프레임으로 주어짐을 확인할 수 있습니다."
   ]
  },
  {
   "cell_type": "code",
   "execution_count": 83,
   "id": "8264b013-a13a-4ade-8f33-39ae99cded66",
   "metadata": {},
   "outputs": [],
   "source": [
    "summary = parsed.describe()"
   ]
  },
  {
   "cell_type": "markdown",
   "id": "1c8d42c9-3c01-40fe-b9eb-ac89a6ed2708",
   "metadata": {},
   "source": [
    "데이터프레임의 서머리를 살펴보면 이처럼 count, mean, stddev, min, max 값들을 각 열에 대해서 보여줍니다."
   ]
  },
  {
   "cell_type": "code",
   "execution_count": 87,
   "id": "e8549a35-f5e5-4d44-a16c-fdedf5d7bbe6",
   "metadata": {},
   "outputs": [
    {
     "data": {
      "text/html": [
       "<table border='1'>\n",
       "<tr><th>summary</th><th>id_1</th><th>id_2</th><th>cmp_fname_c1</th><th>cmp_fname_c2</th><th>cmp_lname_c1</th><th>cmp_lname_c2</th><th>cmp_sex</th><th>cmp_bd</th><th>cmp_bm</th><th>cmp_by</th><th>cmp_plz</th></tr>\n",
       "<tr><td>count</td><td>5749132</td><td>5749132</td><td>5748125</td><td>103698</td><td>5749132</td><td>2464</td><td>5749132</td><td>5748337</td><td>5748337</td><td>5748337</td><td>5736289</td></tr>\n",
       "<tr><td>mean</td><td>33324.48559643438</td><td>66587.43558331935</td><td>0.7129024704425707</td><td>0.900017671890335</td><td>0.31562781930763056</td><td>0.31841283153174366</td><td>0.955001381078048</td><td>0.22446526708507172</td><td>0.48885529849763504</td><td>0.2227485966810923</td><td>0.00552866147434343</td></tr>\n",
       "<tr><td>stddev</td><td>23659.859374487987</td><td>23620.487613269706</td><td>0.3887583596162788</td><td>0.2713176105782331</td><td>0.3342336339615803</td><td>0.3685670662006655</td><td>0.20730111116897443</td><td>0.41722972238461925</td><td>0.4998758236779003</td><td>0.4160909629831711</td><td>0.07414914925420013</td></tr>\n",
       "<tr><td>min</td><td>1</td><td>6</td><td>0.0</td><td>0.0</td><td>0.0</td><td>0.0</td><td>0</td><td>0</td><td>0</td><td>0</td><td>0</td></tr>\n",
       "<tr><td>max</td><td>99980</td><td>100000</td><td>1.0</td><td>1.0</td><td>1.0</td><td>1.0</td><td>1</td><td>1</td><td>1</td><td>1</td><td>1</td></tr>\n",
       "</table>\n"
      ],
      "text/plain": [
       "+-------+------------------+------------------+------------------+------------------+-------------------+-------------------+-------------------+-------------------+-------------------+------------------+-------------------+\n",
       "|summary|              id_1|              id_2|      cmp_fname_c1|      cmp_fname_c2|       cmp_lname_c1|       cmp_lname_c2|            cmp_sex|             cmp_bd|             cmp_bm|            cmp_by|            cmp_plz|\n",
       "+-------+------------------+------------------+------------------+------------------+-------------------+-------------------+-------------------+-------------------+-------------------+------------------+-------------------+\n",
       "|  count|           5749132|           5749132|           5748125|            103698|            5749132|               2464|            5749132|            5748337|            5748337|           5748337|            5736289|\n",
       "|   mean| 33324.48559643438| 66587.43558331935|0.7129024704425707| 0.900017671890335|0.31562781930763056|0.31841283153174366|  0.955001381078048|0.22446526708507172|0.48885529849763504|0.2227485966810923|0.00552866147434343|\n",
       "| stddev|23659.859374487987|23620.487613269706|0.3887583596162788|0.2713176105782331| 0.3342336339615803| 0.3685670662006655|0.20730111116897443|0.41722972238461925| 0.4998758236779003|0.4160909629831711|0.07414914925420013|\n",
       "|    min|                 1|                 6|               0.0|               0.0|                0.0|                0.0|                  0|                  0|                  0|                 0|                  0|\n",
       "|    max|             99980|            100000|               1.0|               1.0|                1.0|                1.0|                  1|                  1|                  1|                 1|                  1|\n",
       "+-------+------------------+------------------+------------------+------------------+-------------------+-------------------+-------------------+-------------------+-------------------+------------------+-------------------+"
      ]
     },
     "execution_count": 87,
     "metadata": {},
     "output_type": "execute_result"
    }
   ],
   "source": [
    "summary"
   ]
  },
  {
   "cell_type": "markdown",
   "id": "c4e75c9b-4c40-48f2-8ffe-6a85e4954b4f",
   "metadata": {},
   "source": [
    "필요한 열만 선택해서 보면 아래와 같이 나타납니다."
   ]
  },
  {
   "cell_type": "code",
   "execution_count": 86,
   "id": "ccbf356e-2e54-4854-8575-ef66c33a8ca9",
   "metadata": {},
   "outputs": [
    {
     "data": {
      "text/html": [
       "<table border='1'>\n",
       "<tr><th>summary</th><th>cmp_fname_c1</th><th>cmp_fname_c2</th></tr>\n",
       "<tr><td>count</td><td>5748125</td><td>103698</td></tr>\n",
       "<tr><td>mean</td><td>0.7129024704425707</td><td>0.900017671890335</td></tr>\n",
       "<tr><td>stddev</td><td>0.3887583596162788</td><td>0.2713176105782331</td></tr>\n",
       "<tr><td>min</td><td>0.0</td><td>0.0</td></tr>\n",
       "<tr><td>max</td><td>1.0</td><td>1.0</td></tr>\n",
       "</table>\n"
      ],
      "text/plain": [
       "+-------+------------------+------------------+\n",
       "|summary|      cmp_fname_c1|      cmp_fname_c2|\n",
       "+-------+------------------+------------------+\n",
       "|  count|           5748125|            103698|\n",
       "|   mean|0.7129024704425707| 0.900017671890335|\n",
       "| stddev|0.3887583596162788|0.2713176105782331|\n",
       "|    min|               0.0|               0.0|\n",
       "|    max|               1.0|               1.0|\n",
       "+-------+------------------+------------------+"
      ]
     },
     "execution_count": 86,
     "metadata": {},
     "output_type": "execute_result"
    }
   ],
   "source": [
    "summary.select('summary', 'cmp_fname_c1', 'cmp_fname_c2')"
   ]
  },
  {
   "cell_type": "markdown",
   "id": "e1ffa5ea-fcf2-4546-94e7-89ce7bf06546",
   "metadata": {},
   "source": [
    "혹은 `is_match` 값이 `true`인 경우만 필터링을 해서 데이터프레임을 새로 만들고, 그에 대한 통계 값들을 다시 구해서 볼 수도 있습니다. 분석 모델링을 위해서 이처럼 다양한 값에 대해서 필터링한 후의 통계 값을 보는 것이 도움이 될 것입니다. 다만... 열이 많아서 데이터프레임을 쉽게 보기가 힘들군요."
   ]
  },
  {
   "cell_type": "code",
   "execution_count": 95,
   "id": "64db7ad9-4c0e-4d90-ac6b-a5a11d7d682c",
   "metadata": {},
   "outputs": [],
   "source": [
    "matches = parsed.where(f.col('is_match') == True)\n",
    "matchSummary = matches.describe()\n",
    "\n",
    "misses = parsed.where(f.col('is_match') == False)\n",
    "missSummary = misses.describe()"
   ]
  },
  {
   "cell_type": "markdown",
   "id": "cfa49b56-c9c2-48df-81ad-aeca80213110",
   "metadata": {},
   "source": [
    "## Pivot과 형태 변환\n",
    "\n",
    "앞서 데이터프레임의 통계 데이터프레임인 `summary` 데이터프레임의 스키마는 다음과 같이 모두 `string` 입니다."
   ]
  },
  {
   "cell_type": "code",
   "execution_count": 96,
   "id": "6038e5bd-5d19-4edd-9853-fb4143d7ba02",
   "metadata": {},
   "outputs": [
    {
     "name": "stdout",
     "output_type": "stream",
     "text": [
      "root\n",
      " |-- summary: string (nullable = true)\n",
      " |-- id_1: string (nullable = true)\n",
      " |-- id_2: string (nullable = true)\n",
      " |-- cmp_fname_c1: string (nullable = true)\n",
      " |-- cmp_fname_c2: string (nullable = true)\n",
      " |-- cmp_lname_c1: string (nullable = true)\n",
      " |-- cmp_lname_c2: string (nullable = true)\n",
      " |-- cmp_sex: string (nullable = true)\n",
      " |-- cmp_bd: string (nullable = true)\n",
      " |-- cmp_bm: string (nullable = true)\n",
      " |-- cmp_by: string (nullable = true)\n",
      " |-- cmp_plz: string (nullable = true)\n",
      "\n"
     ]
    }
   ],
   "source": [
    "summary.printSchema()"
   ]
  },
  {
   "cell_type": "code",
   "execution_count": 114,
   "id": "2ea529ac-7720-4523-a25a-8bca85936eae",
   "metadata": {},
   "outputs": [
    {
     "data": {
      "text/html": [
       "<table border='1'>\n",
       "<tr><th>summary</th><th>id_1</th><th>id_2</th><th>cmp_fname_c1</th><th>cmp_fname_c2</th><th>cmp_lname_c1</th><th>cmp_lname_c2</th><th>cmp_sex</th><th>cmp_bd</th><th>cmp_bm</th><th>cmp_by</th><th>cmp_plz</th></tr>\n",
       "<tr><td>count</td><td>5749132</td><td>5749132</td><td>5748125</td><td>103698</td><td>5749132</td><td>2464</td><td>5749132</td><td>5748337</td><td>5748337</td><td>5748337</td><td>5736289</td></tr>\n",
       "<tr><td>mean</td><td>33324.48559643438</td><td>66587.43558331935</td><td>0.7129024704425707</td><td>0.900017671890335</td><td>0.31562781930763056</td><td>0.31841283153174366</td><td>0.955001381078048</td><td>0.22446526708507172</td><td>0.48885529849763504</td><td>0.2227485966810923</td><td>0.00552866147434343</td></tr>\n",
       "<tr><td>stddev</td><td>23659.859374487987</td><td>23620.487613269706</td><td>0.3887583596162788</td><td>0.2713176105782331</td><td>0.3342336339615803</td><td>0.3685670662006655</td><td>0.20730111116897443</td><td>0.41722972238461925</td><td>0.4998758236779003</td><td>0.4160909629831711</td><td>0.07414914925420013</td></tr>\n",
       "<tr><td>min</td><td>1</td><td>6</td><td>0.0</td><td>0.0</td><td>0.0</td><td>0.0</td><td>0</td><td>0</td><td>0</td><td>0</td><td>0</td></tr>\n",
       "<tr><td>max</td><td>99980</td><td>100000</td><td>1.0</td><td>1.0</td><td>1.0</td><td>1.0</td><td>1</td><td>1</td><td>1</td><td>1</td><td>1</td></tr>\n",
       "</table>\n"
      ],
      "text/plain": [
       "DataFrame[summary: string, id_1: string, id_2: string, cmp_fname_c1: string, cmp_fname_c2: string, cmp_lname_c1: string, cmp_lname_c2: string, cmp_sex: string, cmp_bd: string, cmp_bm: string, cmp_by: string, cmp_plz: string]"
      ]
     },
     "execution_count": 114,
     "metadata": {},
     "output_type": "execute_result"
    }
   ],
   "source": [
    "summary"
   ]
  },
  {
   "cell_type": "markdown",
   "id": "c75399b3-000d-443b-9aed-b6c16a311240",
   "metadata": {},
   "source": [
    "하지만 모든 컬럼이 숫자이므로 이를 `double` 타입으로 변경하는 것과 함께, 데이터프레임을 보기 쉽도록 행과 열을 pivot을 진행해보겠습니다. `flatMap` 함수를 이용하여 데이터프레임의 각 행에 대해서 반복적으로 적용할 함수를 작성합니다. 첫 번째 열은 `metric` 값이므로 `string`으로 받아서 처리하고, 나머지 행의 모든 열에 대해서는 3-tuple 형태로 `(metric, column_name, value)`를 반복적으로 생성합니다."
   ]
  },
  {
   "cell_type": "code",
   "execution_count": 118,
   "id": "d14cbc21-ad60-4f0b-ae30-abd3818ace5c",
   "metadata": {},
   "outputs": [],
   "source": [
    "from pyspark.sql.types import StructType\n",
    "\n",
    "cols = summary.columns\n",
    "\n",
    "longForm = summary.rdd.flatMap(lambda row: [(row[0], cols[i], float(row[i])) for i in range(1, len(row))])"
   ]
  },
  {
   "cell_type": "markdown",
   "id": "9b818da7-09f6-49bf-8d5f-4439ce6aea36",
   "metadata": {},
   "source": [
    "이후에, 이렇게 생성된 3-tuple의 데이터셋을 데이터프레임으로 만들면서 컬럼 명을 지정하면 다음과 같이 아래로 긴 데이터프레임을 얻을 수 있습니다."
   ]
  },
  {
   "cell_type": "code",
   "execution_count": 121,
   "id": "8b7bb386-329f-48b9-9686-10c0fb170d26",
   "metadata": {},
   "outputs": [
    {
     "data": {
      "text/html": [
       "<table border='1'>\n",
       "<tr><th>metric</th><th>field</th><th>value</th></tr>\n",
       "<tr><td>count</td><td>id_1</td><td>5749132.0</td></tr>\n",
       "<tr><td>count</td><td>id_2</td><td>5749132.0</td></tr>\n",
       "<tr><td>count</td><td>cmp_fname_c1</td><td>5748125.0</td></tr>\n",
       "<tr><td>count</td><td>cmp_fname_c2</td><td>103698.0</td></tr>\n",
       "<tr><td>count</td><td>cmp_lname_c1</td><td>5749132.0</td></tr>\n",
       "<tr><td>count</td><td>cmp_lname_c2</td><td>2464.0</td></tr>\n",
       "<tr><td>count</td><td>cmp_sex</td><td>5749132.0</td></tr>\n",
       "<tr><td>count</td><td>cmp_bd</td><td>5748337.0</td></tr>\n",
       "<tr><td>count</td><td>cmp_bm</td><td>5748337.0</td></tr>\n",
       "<tr><td>count</td><td>cmp_by</td><td>5748337.0</td></tr>\n",
       "<tr><td>count</td><td>cmp_plz</td><td>5736289.0</td></tr>\n",
       "<tr><td>mean</td><td>id_1</td><td>33324.48559643438</td></tr>\n",
       "<tr><td>mean</td><td>id_2</td><td>66587.43558331935</td></tr>\n",
       "<tr><td>mean</td><td>cmp_fname_c1</td><td>0.7129024704425707</td></tr>\n",
       "<tr><td>mean</td><td>cmp_fname_c2</td><td>0.900017671890335</td></tr>\n",
       "<tr><td>mean</td><td>cmp_lname_c1</td><td>0.31562781930763056</td></tr>\n",
       "<tr><td>mean</td><td>cmp_lname_c2</td><td>0.31841283153174366</td></tr>\n",
       "<tr><td>mean</td><td>cmp_sex</td><td>0.955001381078048</td></tr>\n",
       "<tr><td>mean</td><td>cmp_bd</td><td>0.22446526708507172</td></tr>\n",
       "<tr><td>mean</td><td>cmp_bm</td><td>0.48885529849763504</td></tr>\n",
       "</table>\n",
       "only showing top 20 rows\n"
      ],
      "text/plain": [
       "+------+------------+-------------------+\n",
       "|metric|       field|              value|\n",
       "+------+------------+-------------------+\n",
       "| count|        id_1|          5749132.0|\n",
       "| count|        id_2|          5749132.0|\n",
       "| count|cmp_fname_c1|          5748125.0|\n",
       "| count|cmp_fname_c2|           103698.0|\n",
       "| count|cmp_lname_c1|          5749132.0|\n",
       "| count|cmp_lname_c2|             2464.0|\n",
       "| count|     cmp_sex|          5749132.0|\n",
       "| count|      cmp_bd|          5748337.0|\n",
       "| count|      cmp_bm|          5748337.0|\n",
       "| count|      cmp_by|          5748337.0|\n",
       "| count|     cmp_plz|          5736289.0|\n",
       "|  mean|        id_1|  33324.48559643438|\n",
       "|  mean|        id_2|  66587.43558331935|\n",
       "|  mean|cmp_fname_c1| 0.7129024704425707|\n",
       "|  mean|cmp_fname_c2|  0.900017671890335|\n",
       "|  mean|cmp_lname_c1|0.31562781930763056|\n",
       "|  mean|cmp_lname_c2|0.31841283153174366|\n",
       "|  mean|     cmp_sex|  0.955001381078048|\n",
       "|  mean|      cmp_bd|0.22446526708507172|\n",
       "|  mean|      cmp_bm|0.48885529849763504|\n",
       "+------+------------+-------------------+\n",
       "only showing top 20 rows"
      ]
     },
     "execution_count": 121,
     "metadata": {},
     "output_type": "execute_result"
    }
   ],
   "source": [
    "longDF = longForm.toDF(['metric', 'field', 'value'])\n",
    "longDF"
   ]
  },
  {
   "cell_type": "markdown",
   "id": "5b58556e-3802-48b8-a444-8b7a21016a6e",
   "metadata": {},
   "source": [
    "이처럼 긴 데이터프레임을 이번에는 컬럼 그룹으로 묶은 다음에 `metric` 값에 대해서 pivot을 진행하면 아래와 같은 넓은 데이터프레임을 얻을 수 있습니다."
   ]
  },
  {
   "cell_type": "code",
   "execution_count": 124,
   "id": "ac8d3f4e-e0de-4c4d-b3ec-e6577397000b",
   "metadata": {},
   "outputs": [
    {
     "data": {
      "text/html": [
       "<table border='1'>\n",
       "<tr><th>field</th><th>count</th><th>mean</th></tr>\n",
       "<tr><td>id_2</td><td>5749132.0</td><td>66587.43558331935</td></tr>\n",
       "<tr><td>cmp_plz</td><td>5736289.0</td><td>0.00552866147434343</td></tr>\n",
       "<tr><td>cmp_lname_c1</td><td>5749132.0</td><td>0.31562781930763056</td></tr>\n",
       "<tr><td>cmp_lname_c2</td><td>2464.0</td><td>0.31841283153174366</td></tr>\n",
       "<tr><td>cmp_sex</td><td>5749132.0</td><td>0.955001381078048</td></tr>\n",
       "<tr><td>cmp_bm</td><td>5748337.0</td><td>0.48885529849763504</td></tr>\n",
       "<tr><td>cmp_fname_c2</td><td>103698.0</td><td>0.900017671890335</td></tr>\n",
       "<tr><td>cmp_fname_c1</td><td>5748125.0</td><td>0.7129024704425707</td></tr>\n",
       "<tr><td>id_1</td><td>5749132.0</td><td>33324.48559643438</td></tr>\n",
       "<tr><td>cmp_bd</td><td>5748337.0</td><td>0.22446526708507172</td></tr>\n",
       "<tr><td>cmp_by</td><td>5748337.0</td><td>0.2227485966810923</td></tr>\n",
       "</table>\n"
      ],
      "text/plain": [
       "+------------+---------+-------------------+\n",
       "|       field|    count|               mean|\n",
       "+------------+---------+-------------------+\n",
       "|        id_2|5749132.0|  66587.43558331935|\n",
       "|     cmp_plz|5736289.0|0.00552866147434343|\n",
       "|cmp_lname_c1|5749132.0|0.31562781930763056|\n",
       "|cmp_lname_c2|   2464.0|0.31841283153174366|\n",
       "|     cmp_sex|5749132.0|  0.955001381078048|\n",
       "|      cmp_bm|5748337.0|0.48885529849763504|\n",
       "|cmp_fname_c2| 103698.0|  0.900017671890335|\n",
       "|cmp_fname_c1|5748125.0| 0.7129024704425707|\n",
       "|        id_1|5749132.0|  33324.48559643438|\n",
       "|      cmp_bd|5748337.0|0.22446526708507172|\n",
       "|      cmp_by|5748337.0| 0.2227485966810923|\n",
       "+------------+---------+-------------------+"
      ]
     },
     "execution_count": 124,
     "metadata": {},
     "output_type": "execute_result"
    }
   ],
   "source": [
    "wideDF = longDF.groupBy('field') \\\n",
    "    .pivot('metric', ['count', 'mean', 'stddev', 'min', 'max']) \\\n",
    "    .agg(f.max('value'))\n",
    "wideDF.select('field', 'count', 'mean')"
   ]
  },
  {
   "cell_type": "markdown",
   "id": "11cde515-bb03-47e0-8e29-dd79931890df",
   "metadata": {},
   "source": [
    "이렇게 통계 데이터프레임에서 긴 데이터프레임, 그리고 이후 넓은 데이터프레임으로 진행되는 과정을 하나의 함수로 정의합니다."
   ]
  },
  {
   "cell_type": "code",
   "execution_count": 130,
   "id": "901d1242-75ef-494d-9a91-48c22d092a41",
   "metadata": {},
   "outputs": [],
   "source": [
    "def pivotSummary(desc):\n",
    "    \n",
    "    cols = desc.columns\n",
    "    \n",
    "    lf = desc.rdd \\\n",
    "        .flatMap(lambda row: [(row[0], cols[i], float(row[i])) for i in range(1, len(row))]) \\\n",
    "        .toDF(['metric', 'field', 'value'])\n",
    "    \n",
    "    return lf.groupBy('field') \\\n",
    "        .pivot('metric', ['count', 'mean', 'stddev', 'min', 'max']) \\\n",
    "        .agg(f.max('value'))"
   ]
  },
  {
   "cell_type": "markdown",
   "id": "9457f802-27cc-402c-be83-d7324bd58cc6",
   "metadata": {},
   "source": [
    "이를 `pivotSymmary`라고 정의했으면, 앞서 `is_match` 값에 따라서 나눈 두 개의 데이터프레임에 이를 적용해봅니다."
   ]
  },
  {
   "cell_type": "code",
   "execution_count": 131,
   "id": "2b2617fc-3ec3-4cdd-b26b-f168dfbc3ead",
   "metadata": {},
   "outputs": [],
   "source": [
    "matchSummaryT = pivotSummary(matchSummary)\n",
    "missSummaryT = pivotSummary(missSummary)"
   ]
  },
  {
   "cell_type": "markdown",
   "id": "a0795170-bd32-4608-ad81-2e146b6d49aa",
   "metadata": {},
   "source": [
    "그 결과, 아래와 같이 두 개의 데이터프레임에 대한 통계 값들을 확인해볼 수 있습니다. 맨 처음 데이터프레임과 비교해볼 때, 행과 열이 완전히 뒤바뀐 것을 알 수 있습니다. 열이 많아지면 pivot 결과는 아래로 길어지게 되므로 보기가 더욱 수월해집니다."
   ]
  },
  {
   "cell_type": "code",
   "execution_count": 132,
   "id": "b1a54a77-f0af-4f15-8902-17db0f722b85",
   "metadata": {},
   "outputs": [
    {
     "data": {
      "text/html": [
       "<table border='1'>\n",
       "<tr><th>field</th><th>count</th><th>mean</th><th>stddev</th><th>min</th><th>max</th></tr>\n",
       "<tr><td>id_2</td><td>20931.0</td><td>51259.95939037791</td><td>24345.733453775203</td><td>6.0</td><td>99996.0</td></tr>\n",
       "<tr><td>cmp_plz</td><td>20902.0</td><td>0.9584250310975027</td><td>0.1996206334593192</td><td>0.0</td><td>1.0</td></tr>\n",
       "<tr><td>cmp_lname_c1</td><td>20931.0</td><td>0.9970152595958813</td><td>0.04311880753394509</td><td>0.0</td><td>1.0</td></tr>\n",
       "<tr><td>cmp_lname_c2</td><td>475.0</td><td>0.969370167843852</td><td>0.1534528074038892</td><td>0.0</td><td>1.0</td></tr>\n",
       "<tr><td>cmp_sex</td><td>20931.0</td><td>0.987291577086618</td><td>0.11201570591216439</td><td>0.0</td><td>1.0</td></tr>\n",
       "<tr><td>cmp_bm</td><td>20925.0</td><td>0.9979450418160095</td><td>0.045286127452170685</td><td>0.0</td><td>1.0</td></tr>\n",
       "<tr><td>cmp_fname_c2</td><td>1333.0</td><td>0.9898900320318176</td><td>0.08251973727615236</td><td>0.0</td><td>1.0</td></tr>\n",
       "<tr><td>cmp_fname_c1</td><td>20922.0</td><td>0.9973163859635039</td><td>0.03650667584833678</td><td>0.0</td><td>1.0</td></tr>\n",
       "<tr><td>id_1</td><td>20931.0</td><td>34575.72117911232</td><td>21950.312851969127</td><td>5.0</td><td>99946.0</td></tr>\n",
       "<tr><td>cmp_bd</td><td>20925.0</td><td>0.9970848267622461</td><td>0.05391487659807982</td><td>0.0</td><td>1.0</td></tr>\n",
       "<tr><td>cmp_by</td><td>20925.0</td><td>0.9961290322580645</td><td>0.06209804856731052</td><td>0.0</td><td>1.0</td></tr>\n",
       "</table>\n"
      ],
      "text/plain": [
       "+------------+-------+------------------+--------------------+---+-------+\n",
       "|       field|  count|              mean|              stddev|min|    max|\n",
       "+------------+-------+------------------+--------------------+---+-------+\n",
       "|        id_2|20931.0| 51259.95939037791|  24345.733453775203|6.0|99996.0|\n",
       "|     cmp_plz|20902.0|0.9584250310975027|  0.1996206334593192|0.0|    1.0|\n",
       "|cmp_lname_c1|20931.0|0.9970152595958813| 0.04311880753394509|0.0|    1.0|\n",
       "|cmp_lname_c2|  475.0| 0.969370167843852|  0.1534528074038892|0.0|    1.0|\n",
       "|     cmp_sex|20931.0| 0.987291577086618| 0.11201570591216439|0.0|    1.0|\n",
       "|      cmp_bm|20925.0|0.9979450418160095|0.045286127452170685|0.0|    1.0|\n",
       "|cmp_fname_c2| 1333.0|0.9898900320318176| 0.08251973727615236|0.0|    1.0|\n",
       "|cmp_fname_c1|20922.0|0.9973163859635039| 0.03650667584833678|0.0|    1.0|\n",
       "|        id_1|20931.0| 34575.72117911232|  21950.312851969127|5.0|99946.0|\n",
       "|      cmp_bd|20925.0|0.9970848267622461| 0.05391487659807982|0.0|    1.0|\n",
       "|      cmp_by|20925.0|0.9961290322580645| 0.06209804856731052|0.0|    1.0|\n",
       "+------------+-------+------------------+--------------------+---+-------+"
      ]
     },
     "execution_count": 132,
     "metadata": {},
     "output_type": "execute_result"
    }
   ],
   "source": [
    "matchSummaryT"
   ]
  },
  {
   "cell_type": "code",
   "execution_count": 133,
   "id": "c6c4ac06-f024-4766-bf03-727600b10295",
   "metadata": {},
   "outputs": [
    {
     "data": {
      "text/html": [
       "<table border='1'>\n",
       "<tr><th>field</th><th>count</th><th>mean</th><th>stddev</th><th>min</th><th>max</th></tr>\n",
       "<tr><td>id_2</td><td>5728201.0</td><td>66643.44259218557</td><td>23599.55172824128</td><td>30.0</td><td>100000.0</td></tr>\n",
       "<tr><td>cmp_plz</td><td>5715387.0</td><td>0.002043781112285135</td><td>0.04516197989362574</td><td>0.0</td><td>1.0</td></tr>\n",
       "<tr><td>cmp_lname_c1</td><td>5728201.0</td><td>0.3131380113360652</td><td>0.3322812130572728</td><td>0.0</td><td>1.0</td></tr>\n",
       "<tr><td>cmp_lname_c2</td><td>1989.0</td><td>0.16295544855122573</td><td>0.19302366635287022</td><td>0.0</td><td>1.0</td></tr>\n",
       "<tr><td>cmp_sex</td><td>5728201.0</td><td>0.9548833918362851</td><td>0.20755988859217647</td><td>0.0</td><td>1.0</td></tr>\n",
       "<tr><td>cmp_bm</td><td>5727412.0</td><td>0.486995347986141</td><td>0.4998308940493894</td><td>0.0</td><td>1.0</td></tr>\n",
       "<tr><td>cmp_fname_c2</td><td>102365.0</td><td>0.898847351409032</td><td>0.2727209029401019</td><td>0.0</td><td>1.0</td></tr>\n",
       "<tr><td>cmp_fname_c1</td><td>5727203.0</td><td>0.7118634802163704</td><td>0.389080600969852</td><td>0.0</td><td>1.0</td></tr>\n",
       "<tr><td>id_1</td><td>5728201.0</td><td>33319.913548075565</td><td>23665.76013033079</td><td>1.0</td><td>99980.0</td></tr>\n",
       "<tr><td>cmp_bd</td><td>5727412.0</td><td>0.2216425149788421</td><td>0.4153518275558802</td><td>0.0</td><td>1.0</td></tr>\n",
       "<tr><td>cmp_by</td><td>5727412.0</td><td>0.2199230647280133</td><td>0.41419432671429895</td><td>0.0</td><td>1.0</td></tr>\n",
       "</table>\n"
      ],
      "text/plain": [
       "+------------+---------+--------------------+-------------------+----+--------+\n",
       "|       field|    count|                mean|             stddev| min|     max|\n",
       "+------------+---------+--------------------+-------------------+----+--------+\n",
       "|        id_2|5728201.0|   66643.44259218557|  23599.55172824128|30.0|100000.0|\n",
       "|     cmp_plz|5715387.0|0.002043781112285135|0.04516197989362574| 0.0|     1.0|\n",
       "|cmp_lname_c1|5728201.0|  0.3131380113360652| 0.3322812130572728| 0.0|     1.0|\n",
       "|cmp_lname_c2|   1989.0| 0.16295544855122573|0.19302366635287022| 0.0|     1.0|\n",
       "|     cmp_sex|5728201.0|  0.9548833918362851|0.20755988859217647| 0.0|     1.0|\n",
       "|      cmp_bm|5727412.0|   0.486995347986141| 0.4998308940493894| 0.0|     1.0|\n",
       "|cmp_fname_c2| 102365.0|   0.898847351409032| 0.2727209029401019| 0.0|     1.0|\n",
       "|cmp_fname_c1|5727203.0|  0.7118634802163704|  0.389080600969852| 0.0|     1.0|\n",
       "|        id_1|5728201.0|  33319.913548075565|  23665.76013033079| 1.0| 99980.0|\n",
       "|      cmp_bd|5727412.0|  0.2216425149788421| 0.4153518275558802| 0.0|     1.0|\n",
       "|      cmp_by|5727412.0|  0.2199230647280133|0.41419432671429895| 0.0|     1.0|\n",
       "+------------+---------+--------------------+-------------------+----+--------+"
      ]
     },
     "execution_count": 133,
     "metadata": {},
     "output_type": "execute_result"
    }
   ],
   "source": [
    "missSummaryT"
   ]
  },
  {
   "cell_type": "markdown",
   "id": "5b43236c-e7c3-43e2-98b2-4029d3556305",
   "metadata": {},
   "source": [
    "## 데이터 모델링\n",
    "\n",
    "두 데이터프레임을 join하여 각 열에 대한 평균값의 차이를 비교해보면 아래와 같습니다. 평균값이 별 차이가 없으면 `is_match` 값에 큰 영향을 주지 않는다고 판단해볼 수 있습니다. 즉, 중요하지 않은 열이라는 것입니다."
   ]
  },
  {
   "cell_type": "code",
   "execution_count": 134,
   "id": "4520db56-093a-4ecf-a15a-246e93c638e2",
   "metadata": {},
   "outputs": [
    {
     "data": {
      "text/html": [
       "<table border='1'>\n",
       "<tr><th>field</th><th>total</th><th>delta</th></tr>\n",
       "<tr><td>cmp_plz</td><td>5736289.0</td><td>0.9563812499852176</td></tr>\n",
       "<tr><td>cmp_lname_c2</td><td>2464.0</td><td>0.8064147192926263</td></tr>\n",
       "<tr><td>cmp_by</td><td>5748337.0</td><td>0.7762059675300512</td></tr>\n",
       "<tr><td>cmp_bd</td><td>5748337.0</td><td>0.775442311783404</td></tr>\n",
       "<tr><td>cmp_lname_c1</td><td>5749132.0</td><td>0.6838772482598161</td></tr>\n",
       "<tr><td>cmp_bm</td><td>5748337.0</td><td>0.5109496938298685</td></tr>\n",
       "<tr><td>cmp_fname_c1</td><td>5748125.0</td><td>0.28545290574713356</td></tr>\n",
       "<tr><td>cmp_fname_c2</td><td>103698.0</td><td>0.09104268062278553</td></tr>\n",
       "<tr><td>cmp_sex</td><td>5749132.0</td><td>0.032408185250332844</td></tr>\n",
       "</table>\n"
      ],
      "text/plain": [
       "+------------+---------+--------------------+\n",
       "|       field|    total|               delta|\n",
       "+------------+---------+--------------------+\n",
       "|     cmp_plz|5736289.0|  0.9563812499852176|\n",
       "|cmp_lname_c2|   2464.0|  0.8064147192926263|\n",
       "|      cmp_by|5748337.0|  0.7762059675300512|\n",
       "|      cmp_bd|5748337.0|   0.775442311783404|\n",
       "|cmp_lname_c1|5749132.0|  0.6838772482598161|\n",
       "|      cmp_bm|5748337.0|  0.5109496938298685|\n",
       "|cmp_fname_c1|5748125.0| 0.28545290574713356|\n",
       "|cmp_fname_c2| 103698.0| 0.09104268062278553|\n",
       "|     cmp_sex|5749132.0|0.032408185250332844|\n",
       "+------------+---------+--------------------+"
      ]
     },
     "execution_count": 134,
     "metadata": {},
     "output_type": "execute_result"
    }
   ],
   "source": [
    "matchSummaryT.createOrReplaceTempView(\"match_desc\")\n",
    "missSummaryT.createOrReplaceTempView(\"miss_desc\")\n",
    "\n",
    "spark.sql(\"\"\"\n",
    "    SELECT \n",
    "        a.field, \n",
    "        a.count + b.count total, \n",
    "        a.mean - b.mean delta\n",
    "    FROM \n",
    "        match_desc a \n",
    "    INNER JOIN \n",
    "        miss_desc b \n",
    "    ON \n",
    "        a.field = b.field\n",
    "    WHERE\n",
    "        a.field NOT IN (\"id_1\", \"id_2\")\n",
    "    ORDER BY delta DESC, total DESC\n",
    "\"\"\")"
   ]
  },
  {
   "cell_type": "markdown",
   "id": "00c2aac1-8ac6-4500-b007-a51e52bc02c1",
   "metadata": {},
   "source": [
    "반대로 평균값의 차이가 매우 큰 값들은 `is_match` 값을 추론하는 것에 있어서 선별력이 큰 값이라고 볼 수 있습니다. 데이터프레임에서 `null` 값이 들어있는 경우가 많기 때문에, 이를 전부 0으로 처리하기 위해서 `fill` 메소드를 이용합니다."
   ]
  },
  {
   "cell_type": "code",
   "execution_count": 145,
   "id": "13c20a48-fd7a-4cbd-b7aa-9cc92ab0122c",
   "metadata": {},
   "outputs": [
    {
     "data": {
      "text/html": [
       "<table border='1'>\n",
       "<tr><th>id_1</th><th>id_2</th><th>cmp_fname_c1</th><th>cmp_fname_c2</th><th>cmp_lname_c1</th><th>cmp_lname_c2</th><th>cmp_sex</th><th>cmp_bd</th><th>cmp_bm</th><th>cmp_by</th><th>cmp_plz</th><th>is_match</th></tr>\n",
       "<tr><td>3148</td><td>8326</td><td>1.0</td><td>0.0</td><td>1.0</td><td>0.0</td><td>1</td><td>1</td><td>1</td><td>1</td><td>1</td><td>true</td></tr>\n",
       "<tr><td>14055</td><td>94934</td><td>1.0</td><td>0.0</td><td>1.0</td><td>0.0</td><td>1</td><td>1</td><td>1</td><td>1</td><td>1</td><td>true</td></tr>\n",
       "<tr><td>33948</td><td>34740</td><td>1.0</td><td>0.0</td><td>1.0</td><td>0.0</td><td>1</td><td>1</td><td>1</td><td>1</td><td>1</td><td>true</td></tr>\n",
       "<tr><td>946</td><td>71870</td><td>1.0</td><td>0.0</td><td>1.0</td><td>0.0</td><td>1</td><td>1</td><td>1</td><td>1</td><td>1</td><td>true</td></tr>\n",
       "<tr><td>64880</td><td>71676</td><td>1.0</td><td>0.0</td><td>1.0</td><td>0.0</td><td>1</td><td>1</td><td>1</td><td>1</td><td>1</td><td>true</td></tr>\n",
       "<tr><td>25739</td><td>45991</td><td>1.0</td><td>0.0</td><td>1.0</td><td>0.0</td><td>1</td><td>1</td><td>1</td><td>1</td><td>1</td><td>true</td></tr>\n",
       "<tr><td>62415</td><td>93584</td><td>1.0</td><td>0.0</td><td>1.0</td><td>0.0</td><td>1</td><td>1</td><td>1</td><td>1</td><td>0</td><td>true</td></tr>\n",
       "<tr><td>27995</td><td>31399</td><td>1.0</td><td>0.0</td><td>1.0</td><td>0.0</td><td>1</td><td>1</td><td>1</td><td>1</td><td>1</td><td>true</td></tr>\n",
       "<tr><td>4909</td><td>12238</td><td>1.0</td><td>0.0</td><td>1.0</td><td>0.0</td><td>1</td><td>1</td><td>1</td><td>1</td><td>1</td><td>true</td></tr>\n",
       "<tr><td>15161</td><td>16743</td><td>1.0</td><td>0.0</td><td>1.0</td><td>0.0</td><td>1</td><td>1</td><td>1</td><td>1</td><td>1</td><td>true</td></tr>\n",
       "<tr><td>31703</td><td>37310</td><td>1.0</td><td>0.0</td><td>1.0</td><td>0.0</td><td>1</td><td>1</td><td>1</td><td>1</td><td>1</td><td>true</td></tr>\n",
       "<tr><td>30213</td><td>36558</td><td>1.0</td><td>0.0</td><td>1.0</td><td>0.0</td><td>1</td><td>1</td><td>1</td><td>1</td><td>1</td><td>true</td></tr>\n",
       "<tr><td>56596</td><td>56630</td><td>1.0</td><td>0.0</td><td>1.0</td><td>0.0</td><td>1</td><td>1</td><td>1</td><td>1</td><td>1</td><td>true</td></tr>\n",
       "<tr><td>16481</td><td>21174</td><td>1.0</td><td>0.0</td><td>1.0</td><td>0.0</td><td>1</td><td>1</td><td>1</td><td>1</td><td>1</td><td>true</td></tr>\n",
       "<tr><td>32649</td><td>37094</td><td>1.0</td><td>0.0</td><td>1.0</td><td>0.0</td><td>1</td><td>1</td><td>1</td><td>1</td><td>1</td><td>true</td></tr>\n",
       "<tr><td>34268</td><td>37260</td><td>1.0</td><td>0.0</td><td>1.0</td><td>0.0</td><td>1</td><td>1</td><td>1</td><td>1</td><td>1</td><td>true</td></tr>\n",
       "<tr><td>66117</td><td>69253</td><td>1.0</td><td>0.0</td><td>1.0</td><td>0.0</td><td>1</td><td>1</td><td>1</td><td>1</td><td>0</td><td>true</td></tr>\n",
       "<tr><td>2771</td><td>31982</td><td>1.0</td><td>0.0</td><td>1.0</td><td>0.0</td><td>0</td><td>1</td><td>1</td><td>1</td><td>1</td><td>true</td></tr>\n",
       "<tr><td>23557</td><td>29673</td><td>1.0</td><td>0.0</td><td>1.0</td><td>0.0</td><td>1</td><td>1</td><td>1</td><td>1</td><td>1</td><td>true</td></tr>\n",
       "<tr><td>37156</td><td>39557</td><td>1.0</td><td>0.0</td><td>1.0</td><td>0.0</td><td>1</td><td>1</td><td>1</td><td>1</td><td>1</td><td>true</td></tr>\n",
       "</table>\n",
       "only showing top 20 rows\n"
      ],
      "text/plain": [
       "+-----+-----+------------+------------+------------+------------+-------+------+------+------+-------+--------+\n",
       "| id_1| id_2|cmp_fname_c1|cmp_fname_c2|cmp_lname_c1|cmp_lname_c2|cmp_sex|cmp_bd|cmp_bm|cmp_by|cmp_plz|is_match|\n",
       "+-----+-----+------------+------------+------------+------------+-------+------+------+------+-------+--------+\n",
       "| 3148| 8326|         1.0|         0.0|         1.0|         0.0|      1|     1|     1|     1|      1|    true|\n",
       "|14055|94934|         1.0|         0.0|         1.0|         0.0|      1|     1|     1|     1|      1|    true|\n",
       "|33948|34740|         1.0|         0.0|         1.0|         0.0|      1|     1|     1|     1|      1|    true|\n",
       "|  946|71870|         1.0|         0.0|         1.0|         0.0|      1|     1|     1|     1|      1|    true|\n",
       "|64880|71676|         1.0|         0.0|         1.0|         0.0|      1|     1|     1|     1|      1|    true|\n",
       "|25739|45991|         1.0|         0.0|         1.0|         0.0|      1|     1|     1|     1|      1|    true|\n",
       "|62415|93584|         1.0|         0.0|         1.0|         0.0|      1|     1|     1|     1|      0|    true|\n",
       "|27995|31399|         1.0|         0.0|         1.0|         0.0|      1|     1|     1|     1|      1|    true|\n",
       "| 4909|12238|         1.0|         0.0|         1.0|         0.0|      1|     1|     1|     1|      1|    true|\n",
       "|15161|16743|         1.0|         0.0|         1.0|         0.0|      1|     1|     1|     1|      1|    true|\n",
       "|31703|37310|         1.0|         0.0|         1.0|         0.0|      1|     1|     1|     1|      1|    true|\n",
       "|30213|36558|         1.0|         0.0|         1.0|         0.0|      1|     1|     1|     1|      1|    true|\n",
       "|56596|56630|         1.0|         0.0|         1.0|         0.0|      1|     1|     1|     1|      1|    true|\n",
       "|16481|21174|         1.0|         0.0|         1.0|         0.0|      1|     1|     1|     1|      1|    true|\n",
       "|32649|37094|         1.0|         0.0|         1.0|         0.0|      1|     1|     1|     1|      1|    true|\n",
       "|34268|37260|         1.0|         0.0|         1.0|         0.0|      1|     1|     1|     1|      1|    true|\n",
       "|66117|69253|         1.0|         0.0|         1.0|         0.0|      1|     1|     1|     1|      0|    true|\n",
       "| 2771|31982|         1.0|         0.0|         1.0|         0.0|      0|     1|     1|     1|      1|    true|\n",
       "|23557|29673|         1.0|         0.0|         1.0|         0.0|      1|     1|     1|     1|      1|    true|\n",
       "|37156|39557|         1.0|         0.0|         1.0|         0.0|      1|     1|     1|     1|      1|    true|\n",
       "+-----+-----+------------+------------+------------+------------+-------+------+------+------+-------+--------+\n",
       "only showing top 20 rows"
      ]
     },
     "execution_count": 145,
     "metadata": {},
     "output_type": "execute_result"
    }
   ],
   "source": [
    "parsed = parsed.na.fill(0)\n",
    "parsed"
   ]
  },
  {
   "cell_type": "markdown",
   "id": "05f7f3fe-9185-4d23-a376-4db6b3b776a0",
   "metadata": {},
   "source": [
    "그리고 스코어를 계산하여 `score` 컬럼을 생성합니다."
   ]
  },
  {
   "cell_type": "code",
   "execution_count": 161,
   "id": "91773a0d-d72f-41a7-a512-2a0d60dd4c84",
   "metadata": {},
   "outputs": [],
   "source": [
    "scored = parsed.withColumn('score', f.col('cmp_lname_c1') + f.col('cmp_plz') + f.col('cmp_by') + f.col('cmp_bd') + f.col('cmp_bm'))"
   ]
  },
  {
   "cell_type": "markdown",
   "id": "e091067a-0846-4a49-95ac-ae058f3a1c98",
   "metadata": {},
   "source": [
    "적용된 결과를 살펴보면, 모델링 `score`와 실제 `is_match` 값이 나타납니다."
   ]
  },
  {
   "cell_type": "code",
   "execution_count": 162,
   "id": "faf87e31-a0b7-4eec-95df-9eac0624705b",
   "metadata": {},
   "outputs": [
    {
     "data": {
      "text/html": [
       "<table border='1'>\n",
       "<tr><th>id_1</th><th>id_2</th><th>cmp_fname_c1</th><th>cmp_fname_c2</th><th>cmp_lname_c1</th><th>cmp_lname_c2</th><th>cmp_sex</th><th>cmp_bd</th><th>cmp_bm</th><th>cmp_by</th><th>cmp_plz</th><th>is_match</th><th>score</th></tr>\n",
       "<tr><td>3148</td><td>8326</td><td>1.0</td><td>0.0</td><td>1.0</td><td>0.0</td><td>1</td><td>1</td><td>1</td><td>1</td><td>1</td><td>true</td><td>5.0</td></tr>\n",
       "<tr><td>14055</td><td>94934</td><td>1.0</td><td>0.0</td><td>1.0</td><td>0.0</td><td>1</td><td>1</td><td>1</td><td>1</td><td>1</td><td>true</td><td>5.0</td></tr>\n",
       "<tr><td>33948</td><td>34740</td><td>1.0</td><td>0.0</td><td>1.0</td><td>0.0</td><td>1</td><td>1</td><td>1</td><td>1</td><td>1</td><td>true</td><td>5.0</td></tr>\n",
       "<tr><td>946</td><td>71870</td><td>1.0</td><td>0.0</td><td>1.0</td><td>0.0</td><td>1</td><td>1</td><td>1</td><td>1</td><td>1</td><td>true</td><td>5.0</td></tr>\n",
       "<tr><td>64880</td><td>71676</td><td>1.0</td><td>0.0</td><td>1.0</td><td>0.0</td><td>1</td><td>1</td><td>1</td><td>1</td><td>1</td><td>true</td><td>5.0</td></tr>\n",
       "<tr><td>25739</td><td>45991</td><td>1.0</td><td>0.0</td><td>1.0</td><td>0.0</td><td>1</td><td>1</td><td>1</td><td>1</td><td>1</td><td>true</td><td>5.0</td></tr>\n",
       "<tr><td>62415</td><td>93584</td><td>1.0</td><td>0.0</td><td>1.0</td><td>0.0</td><td>1</td><td>1</td><td>1</td><td>1</td><td>0</td><td>true</td><td>4.0</td></tr>\n",
       "<tr><td>27995</td><td>31399</td><td>1.0</td><td>0.0</td><td>1.0</td><td>0.0</td><td>1</td><td>1</td><td>1</td><td>1</td><td>1</td><td>true</td><td>5.0</td></tr>\n",
       "<tr><td>4909</td><td>12238</td><td>1.0</td><td>0.0</td><td>1.0</td><td>0.0</td><td>1</td><td>1</td><td>1</td><td>1</td><td>1</td><td>true</td><td>5.0</td></tr>\n",
       "<tr><td>15161</td><td>16743</td><td>1.0</td><td>0.0</td><td>1.0</td><td>0.0</td><td>1</td><td>1</td><td>1</td><td>1</td><td>1</td><td>true</td><td>5.0</td></tr>\n",
       "<tr><td>31703</td><td>37310</td><td>1.0</td><td>0.0</td><td>1.0</td><td>0.0</td><td>1</td><td>1</td><td>1</td><td>1</td><td>1</td><td>true</td><td>5.0</td></tr>\n",
       "<tr><td>30213</td><td>36558</td><td>1.0</td><td>0.0</td><td>1.0</td><td>0.0</td><td>1</td><td>1</td><td>1</td><td>1</td><td>1</td><td>true</td><td>5.0</td></tr>\n",
       "<tr><td>56596</td><td>56630</td><td>1.0</td><td>0.0</td><td>1.0</td><td>0.0</td><td>1</td><td>1</td><td>1</td><td>1</td><td>1</td><td>true</td><td>5.0</td></tr>\n",
       "<tr><td>16481</td><td>21174</td><td>1.0</td><td>0.0</td><td>1.0</td><td>0.0</td><td>1</td><td>1</td><td>1</td><td>1</td><td>1</td><td>true</td><td>5.0</td></tr>\n",
       "<tr><td>32649</td><td>37094</td><td>1.0</td><td>0.0</td><td>1.0</td><td>0.0</td><td>1</td><td>1</td><td>1</td><td>1</td><td>1</td><td>true</td><td>5.0</td></tr>\n",
       "<tr><td>34268</td><td>37260</td><td>1.0</td><td>0.0</td><td>1.0</td><td>0.0</td><td>1</td><td>1</td><td>1</td><td>1</td><td>1</td><td>true</td><td>5.0</td></tr>\n",
       "<tr><td>66117</td><td>69253</td><td>1.0</td><td>0.0</td><td>1.0</td><td>0.0</td><td>1</td><td>1</td><td>1</td><td>1</td><td>0</td><td>true</td><td>4.0</td></tr>\n",
       "<tr><td>2771</td><td>31982</td><td>1.0</td><td>0.0</td><td>1.0</td><td>0.0</td><td>0</td><td>1</td><td>1</td><td>1</td><td>1</td><td>true</td><td>5.0</td></tr>\n",
       "<tr><td>23557</td><td>29673</td><td>1.0</td><td>0.0</td><td>1.0</td><td>0.0</td><td>1</td><td>1</td><td>1</td><td>1</td><td>1</td><td>true</td><td>5.0</td></tr>\n",
       "<tr><td>37156</td><td>39557</td><td>1.0</td><td>0.0</td><td>1.0</td><td>0.0</td><td>1</td><td>1</td><td>1</td><td>1</td><td>1</td><td>true</td><td>5.0</td></tr>\n",
       "</table>\n",
       "only showing top 20 rows\n"
      ],
      "text/plain": [
       "+-----+-----+------------+------------+------------+------------+-------+------+------+------+-------+--------+-----+\n",
       "| id_1| id_2|cmp_fname_c1|cmp_fname_c2|cmp_lname_c1|cmp_lname_c2|cmp_sex|cmp_bd|cmp_bm|cmp_by|cmp_plz|is_match|score|\n",
       "+-----+-----+------------+------------+------------+------------+-------+------+------+------+-------+--------+-----+\n",
       "| 3148| 8326|         1.0|         0.0|         1.0|         0.0|      1|     1|     1|     1|      1|    true|  5.0|\n",
       "|14055|94934|         1.0|         0.0|         1.0|         0.0|      1|     1|     1|     1|      1|    true|  5.0|\n",
       "|33948|34740|         1.0|         0.0|         1.0|         0.0|      1|     1|     1|     1|      1|    true|  5.0|\n",
       "|  946|71870|         1.0|         0.0|         1.0|         0.0|      1|     1|     1|     1|      1|    true|  5.0|\n",
       "|64880|71676|         1.0|         0.0|         1.0|         0.0|      1|     1|     1|     1|      1|    true|  5.0|\n",
       "|25739|45991|         1.0|         0.0|         1.0|         0.0|      1|     1|     1|     1|      1|    true|  5.0|\n",
       "|62415|93584|         1.0|         0.0|         1.0|         0.0|      1|     1|     1|     1|      0|    true|  4.0|\n",
       "|27995|31399|         1.0|         0.0|         1.0|         0.0|      1|     1|     1|     1|      1|    true|  5.0|\n",
       "| 4909|12238|         1.0|         0.0|         1.0|         0.0|      1|     1|     1|     1|      1|    true|  5.0|\n",
       "|15161|16743|         1.0|         0.0|         1.0|         0.0|      1|     1|     1|     1|      1|    true|  5.0|\n",
       "|31703|37310|         1.0|         0.0|         1.0|         0.0|      1|     1|     1|     1|      1|    true|  5.0|\n",
       "|30213|36558|         1.0|         0.0|         1.0|         0.0|      1|     1|     1|     1|      1|    true|  5.0|\n",
       "|56596|56630|         1.0|         0.0|         1.0|         0.0|      1|     1|     1|     1|      1|    true|  5.0|\n",
       "|16481|21174|         1.0|         0.0|         1.0|         0.0|      1|     1|     1|     1|      1|    true|  5.0|\n",
       "|32649|37094|         1.0|         0.0|         1.0|         0.0|      1|     1|     1|     1|      1|    true|  5.0|\n",
       "|34268|37260|         1.0|         0.0|         1.0|         0.0|      1|     1|     1|     1|      1|    true|  5.0|\n",
       "|66117|69253|         1.0|         0.0|         1.0|         0.0|      1|     1|     1|     1|      0|    true|  4.0|\n",
       "| 2771|31982|         1.0|         0.0|         1.0|         0.0|      0|     1|     1|     1|      1|    true|  5.0|\n",
       "|23557|29673|         1.0|         0.0|         1.0|         0.0|      1|     1|     1|     1|      1|    true|  5.0|\n",
       "|37156|39557|         1.0|         0.0|         1.0|         0.0|      1|     1|     1|     1|      1|    true|  5.0|\n",
       "+-----+-----+------------+------------+------------+------------+-------+------+------+------+-------+--------+-----+\n",
       "only showing top 20 rows"
      ]
     },
     "execution_count": 162,
     "metadata": {},
     "output_type": "execute_result"
    }
   ],
   "source": [
    "scored"
   ]
  },
  {
   "cell_type": "markdown",
   "id": "a5bb85a6-b27d-4328-9134-f700aeba8da3",
   "metadata": {},
   "source": [
    "## 모델 평가\n",
    "\n",
    "이제 이렇게 추론한 값과 실제 값을 비교하여 단순 스코어 합산을 이용한 모델을 평가해보도록 하겠습니다. 모델을 이용한 추론 값과 실제 값인 `true`, `false`에 대한 교차 탭 (Crosstab)을 생성합니다. 특정 점수를 오프셋(Offset)으로 잡을 수 있도록 합니다."
   ]
  },
  {
   "cell_type": "code",
   "execution_count": 149,
   "id": "35bfde08-2494-4ac0-97c3-5b4662ade368",
   "metadata": {},
   "outputs": [],
   "source": [
    "def crossTabs(scored, t):\n",
    "    return scored.selectExpr(f'score >= {t} as above', 'is_match') \\\n",
    "        .groupBy('above') \\\n",
    "        .pivot('is_match', ['true', 'false']) \\\n",
    "        .count()"
   ]
  },
  {
   "cell_type": "markdown",
   "id": "890e8127-b3fa-44f3-b8d2-3a6f3b2c256b",
   "metadata": {},
   "source": [
    "점수 오프셋에 따라서 score가 4점 이상인 경우를 `true`로 판단하면 `true`로 예측했으나 실제 `false`인 값이 637건 존재하게 됩니다. 그 반대의 경우도 60건이 존재합니다. 전체가 570만건이 넘으니까 어느 정도 정확하다고 판단이 듭니다. 여기에서 offset을 낮추면 더 안좋은 결과를 얻게 됩니다."
   ]
  },
  {
   "cell_type": "code",
   "execution_count": 163,
   "id": "60ea6f34-f420-4ff3-a8ec-d050d8476e00",
   "metadata": {},
   "outputs": [
    {
     "data": {
      "text/html": [
       "<table border='1'>\n",
       "<tr><th>above</th><th>true</th><th>false</th></tr>\n",
       "<tr><td>true</td><td>20871</td><td>637</td></tr>\n",
       "<tr><td>false</td><td>60</td><td>5727564</td></tr>\n",
       "</table>\n"
      ],
      "text/plain": [
       "+-----+-----+-------+\n",
       "|above| true|  false|\n",
       "+-----+-----+-------+\n",
       "| true|20871|    637|\n",
       "|false|   60|5727564|\n",
       "+-----+-----+-------+"
      ]
     },
     "execution_count": 163,
     "metadata": {},
     "output_type": "execute_result"
    }
   ],
   "source": [
    "crossTabs(scored, 4.0)"
   ]
  },
  {
   "cell_type": "code",
   "execution_count": 164,
   "id": "781f1e6c-a607-4117-b5b5-711e566008fa",
   "metadata": {},
   "outputs": [
    {
     "data": {
      "text/html": [
       "<table border='1'>\n",
       "<tr><th>above</th><th>true</th><th>false</th></tr>\n",
       "<tr><td>true</td><td>20931</td><td>596414</td></tr>\n",
       "<tr><td>false</td><td>null</td><td>5131787</td></tr>\n",
       "</table>\n"
      ],
      "text/plain": [
       "+-----+-----+-------+\n",
       "|above| true|  false|\n",
       "+-----+-----+-------+\n",
       "| true|20931| 596414|\n",
       "|false| null|5131787|\n",
       "+-----+-----+-------+"
      ]
     },
     "execution_count": 164,
     "metadata": {},
     "output_type": "execute_result"
    }
   ],
   "source": [
    "crossTabs(scored, 2.0)"
   ]
  },
  {
   "cell_type": "markdown",
   "id": "d07d9277-52e9-48b6-bc48-c836c8675e10",
   "metadata": {},
   "source": [
    "지금까지 기본적인 스파크의 사용 방법과 분석 방법, 데이터 모델링과 추론에 대해서 살펴보았습니다. 단순한 더하기 모델링이지만 훌륭한 결과를 보여주고 있습니다. 더 정확한 추론을 위해서는 데이터 모델을 보다 정확하게 설계할 필요가 있습니다. 또한 적절한 오프셋을 구하는 것도 중요할 것입니다.\n",
    "\n",
    "아래와 같이 열을 하나 더 추가하고, `cmp_plz` 열의 값에 대해서 약간의 낮은 보정치를 가함으로써 보다 정확한 추론이 가능한 모델을 얻을 수 있습니다."
   ]
  },
  {
   "cell_type": "code",
   "execution_count": 165,
   "id": "cbfe13c5-8704-4c00-84f6-32652c6d0222",
   "metadata": {},
   "outputs": [
    {
     "data": {
      "text/html": [
       "<table border='1'>\n",
       "<tr><th>above</th><th>true</th><th>false</th></tr>\n",
       "<tr><td>true</td><td>20869</td><td>13</td></tr>\n",
       "<tr><td>false</td><td>62</td><td>5728188</td></tr>\n",
       "</table>\n"
      ],
      "text/plain": [
       "+-----+-----+-------+\n",
       "|above| true|  false|\n",
       "+-----+-----+-------+\n",
       "| true|20869|     13|\n",
       "|false|   62|5728188|\n",
       "+-----+-----+-------+"
      ]
     },
     "execution_count": 165,
     "metadata": {},
     "output_type": "execute_result"
    }
   ],
   "source": [
    "scored2 = parsed.withColumn('score', f.col('cmp_plz') * f.lit(0.95) + f.col('cmp_by') + f.col('cmp_bd') + f.col('cmp_lname_c1') + f.col('cmp_bm') + f.col('cmp_fname_c1'))\n",
    "crossTabs(scored2, 4.81)"
   ]
  },
  {
   "cell_type": "code",
   "execution_count": 166,
   "id": "2587604f-f711-4937-b8dc-238e0aad0021",
   "metadata": {},
   "outputs": [],
   "source": [
    "!rm -r linkage"
   ]
  }
 ],
 "metadata": {
  "kernelspec": {
   "display_name": "Python 3",
   "language": "python",
   "name": "python3"
  },
  "language_info": {
   "codemirror_mode": {
    "name": "ipython",
    "version": 3
   },
   "file_extension": ".py",
   "mimetype": "text/x-python",
   "name": "python",
   "nbconvert_exporter": "python",
   "pygments_lexer": "ipython3",
   "version": "3.9.4"
  }
 },
 "nbformat": 4,
 "nbformat_minor": 5
}
